{
 "cells": [
  {
   "cell_type": "code",
   "execution_count": 73,
   "metadata": {
    "_cell_guid": "b1076dfc-b9ad-4769-8c92-a6c4dae69d19",
    "_uuid": "8f2839f25d086af736a60e9eeb907d3b93b6e0e5",
    "colab": {},
    "colab_type": "code",
    "id": "U2D2gTdJVp90"
   },
   "outputs": [],
   "source": [
    "import numpy as np\n",
    "import pandas as pd\n",
    "import seaborn as sns\n",
    "import matplotlib.pyplot as plt\n",
    "from collections import Counter"
   ]
  },
  {
   "cell_type": "code",
   "execution_count": 74,
   "metadata": {
    "_cell_guid": "79c7e3d0-c299-4dcb-8224-4455121ee9b0",
    "_uuid": "d629ff2d2480ee46fbb7e2d37f6b5fab8052498a",
    "colab": {},
    "colab_type": "code",
    "id": "oyGfxL3eVp9-"
   },
   "outputs": [
    {
     "data": {
      "text/html": [
       "<div>\n",
       "<style scoped>\n",
       "    .dataframe tbody tr th:only-of-type {\n",
       "        vertical-align: middle;\n",
       "    }\n",
       "\n",
       "    .dataframe tbody tr th {\n",
       "        vertical-align: top;\n",
       "    }\n",
       "\n",
       "    .dataframe thead th {\n",
       "        text-align: right;\n",
       "    }\n",
       "</style>\n",
       "<table border=\"1\" class=\"dataframe\">\n",
       "  <thead>\n",
       "    <tr style=\"text-align: right;\">\n",
       "      <th></th>\n",
       "      <th>imdb_id</th>\n",
       "      <th>budget</th>\n",
       "      <th>revenue</th>\n",
       "      <th>original_title</th>\n",
       "      <th>cast</th>\n",
       "      <th>director</th>\n",
       "      <th>tagline</th>\n",
       "      <th>overview</th>\n",
       "      <th>runtime</th>\n",
       "      <th>genres</th>\n",
       "      <th>production_companies</th>\n",
       "      <th>release_date</th>\n",
       "      <th>vote_average</th>\n",
       "      <th>release_year</th>\n",
       "    </tr>\n",
       "  </thead>\n",
       "  <tbody>\n",
       "    <tr>\n",
       "      <th>827</th>\n",
       "      <td>tt1124035</td>\n",
       "      <td>12500000</td>\n",
       "      <td>75993061</td>\n",
       "      <td>The Ides of March</td>\n",
       "      <td>Ryan Gosling|George Clooney|Philip Seymour Hof...</td>\n",
       "      <td>George Clooney</td>\n",
       "      <td>Ambition seduces. Power corrupts.</td>\n",
       "      <td>Dirty tricks stand to soil an ambitious young ...</td>\n",
       "      <td>101</td>\n",
       "      <td>Drama</td>\n",
       "      <td>Appian Way|Crystal City Entertainment|Cross Cr...</td>\n",
       "      <td>9/24/2011</td>\n",
       "      <td>6.4</td>\n",
       "      <td>2011</td>\n",
       "    </tr>\n",
       "    <tr>\n",
       "      <th>838</th>\n",
       "      <td>tt0881320</td>\n",
       "      <td>30000000</td>\n",
       "      <td>108609310</td>\n",
       "      <td>Sanctum</td>\n",
       "      <td>Ioan Gruffudd|Richard Roxburgh|Alice Parkinson...</td>\n",
       "      <td>Alister Grierson</td>\n",
       "      <td>The only way out is down.</td>\n",
       "      <td>The 3-D action-thriller Sanctum, from executiv...</td>\n",
       "      <td>108</td>\n",
       "      <td>Action|Thriller</td>\n",
       "      <td>Universal Pictures|Wayfare Entertainment|Sanct...</td>\n",
       "      <td>2/3/2011</td>\n",
       "      <td>5.7</td>\n",
       "      <td>2011</td>\n",
       "    </tr>\n",
       "    <tr>\n",
       "      <th>430</th>\n",
       "      <td>tt1155076</td>\n",
       "      <td>40000000</td>\n",
       "      <td>357852395</td>\n",
       "      <td>The Karate Kid</td>\n",
       "      <td>Jaden Smith|Jackie Chan|Taraji P. Henson|Yu Ro...</td>\n",
       "      <td>Harald Zwart</td>\n",
       "      <td>A Challenge He Never Imagined. A Teacher He Ne...</td>\n",
       "      <td>12-year-old Dre Parker could have been the mos...</td>\n",
       "      <td>140</td>\n",
       "      <td>Action|Adventure|Drama|Family</td>\n",
       "      <td>Columbia Pictures|Jerry Weintraub Productions|...</td>\n",
       "      <td>6/10/2010</td>\n",
       "      <td>6.1</td>\n",
       "      <td>2010</td>\n",
       "    </tr>\n",
       "    <tr>\n",
       "      <th>588</th>\n",
       "      <td>tt0234829</td>\n",
       "      <td>34000000</td>\n",
       "      <td>19693891</td>\n",
       "      <td>Summer Catch</td>\n",
       "      <td>Freddie Prinze Jr.|Jessica Biel|Fred Ward|Matt...</td>\n",
       "      <td>Mike Tollin</td>\n",
       "      <td>Are you game?</td>\n",
       "      <td>A coming-of-age romantic comedy set against th...</td>\n",
       "      <td>108</td>\n",
       "      <td>Drama|Comedy|Romance</td>\n",
       "      <td>Tollin/Robbins Productions|Warner Bros.</td>\n",
       "      <td>8/22/2001</td>\n",
       "      <td>4.8</td>\n",
       "      <td>2001</td>\n",
       "    </tr>\n",
       "    <tr>\n",
       "      <th>1555</th>\n",
       "      <td>tt0444182</td>\n",
       "      <td>14500000</td>\n",
       "      <td>22963701</td>\n",
       "      <td>IndigÃ¨nes</td>\n",
       "      <td>Jamel Debbouze|Samy Naceri|Roschdy Zem|Sami Bo...</td>\n",
       "      <td>Rachid Bouchareb</td>\n",
       "      <td>The true story of World War II's forgotten her...</td>\n",
       "      <td>During WWII, four North African men enlist in ...</td>\n",
       "      <td>128</td>\n",
       "      <td>Drama|History|War</td>\n",
       "      <td>Tessalit Productions</td>\n",
       "      <td>5/25/2006</td>\n",
       "      <td>6.7</td>\n",
       "      <td>2006</td>\n",
       "    </tr>\n",
       "  </tbody>\n",
       "</table>\n",
       "</div>"
      ],
      "text/plain": [
       "        imdb_id    budget    revenue     original_title  \\\n",
       "827   tt1124035  12500000   75993061  The Ides of March   \n",
       "838   tt0881320  30000000  108609310            Sanctum   \n",
       "430   tt1155076  40000000  357852395     The Karate Kid   \n",
       "588   tt0234829  34000000   19693891       Summer Catch   \n",
       "1555  tt0444182  14500000   22963701         IndigÃ¨nes   \n",
       "\n",
       "                                                   cast          director  \\\n",
       "827   Ryan Gosling|George Clooney|Philip Seymour Hof...    George Clooney   \n",
       "838   Ioan Gruffudd|Richard Roxburgh|Alice Parkinson...  Alister Grierson   \n",
       "430   Jaden Smith|Jackie Chan|Taraji P. Henson|Yu Ro...      Harald Zwart   \n",
       "588   Freddie Prinze Jr.|Jessica Biel|Fred Ward|Matt...       Mike Tollin   \n",
       "1555  Jamel Debbouze|Samy Naceri|Roschdy Zem|Sami Bo...  Rachid Bouchareb   \n",
       "\n",
       "                                                tagline  \\\n",
       "827                   Ambition seduces. Power corrupts.   \n",
       "838                           The only way out is down.   \n",
       "430   A Challenge He Never Imagined. A Teacher He Ne...   \n",
       "588                                       Are you game?   \n",
       "1555  The true story of World War II's forgotten her...   \n",
       "\n",
       "                                               overview  runtime  \\\n",
       "827   Dirty tricks stand to soil an ambitious young ...      101   \n",
       "838   The 3-D action-thriller Sanctum, from executiv...      108   \n",
       "430   12-year-old Dre Parker could have been the mos...      140   \n",
       "588   A coming-of-age romantic comedy set against th...      108   \n",
       "1555  During WWII, four North African men enlist in ...      128   \n",
       "\n",
       "                             genres  \\\n",
       "827                           Drama   \n",
       "838                 Action|Thriller   \n",
       "430   Action|Adventure|Drama|Family   \n",
       "588            Drama|Comedy|Romance   \n",
       "1555              Drama|History|War   \n",
       "\n",
       "                                   production_companies release_date  \\\n",
       "827   Appian Way|Crystal City Entertainment|Cross Cr...    9/24/2011   \n",
       "838   Universal Pictures|Wayfare Entertainment|Sanct...     2/3/2011   \n",
       "430   Columbia Pictures|Jerry Weintraub Productions|...    6/10/2010   \n",
       "588             Tollin/Robbins Productions|Warner Bros.    8/22/2001   \n",
       "1555                               Tessalit Productions    5/25/2006   \n",
       "\n",
       "      vote_average  release_year  \n",
       "827            6.4          2011  \n",
       "838            5.7          2011  \n",
       "430            6.1          2010  \n",
       "588            4.8          2001  \n",
       "1555           6.7          2006  "
      ]
     },
     "execution_count": 74,
     "metadata": {},
     "output_type": "execute_result"
    }
   ],
   "source": [
    "data = pd.read_csv('movie_bd_v5.csv')\n",
    "data.sample(5)"
   ]
  },
  {
   "cell_type": "code",
   "execution_count": 75,
   "metadata": {
    "colab": {},
    "colab_type": "code",
    "id": "CoYUnagMVp-C"
   },
   "outputs": [
    {
     "data": {
      "text/html": [
       "<div>\n",
       "<style scoped>\n",
       "    .dataframe tbody tr th:only-of-type {\n",
       "        vertical-align: middle;\n",
       "    }\n",
       "\n",
       "    .dataframe tbody tr th {\n",
       "        vertical-align: top;\n",
       "    }\n",
       "\n",
       "    .dataframe thead th {\n",
       "        text-align: right;\n",
       "    }\n",
       "</style>\n",
       "<table border=\"1\" class=\"dataframe\">\n",
       "  <thead>\n",
       "    <tr style=\"text-align: right;\">\n",
       "      <th></th>\n",
       "      <th>budget</th>\n",
       "      <th>revenue</th>\n",
       "      <th>runtime</th>\n",
       "      <th>vote_average</th>\n",
       "      <th>release_year</th>\n",
       "    </tr>\n",
       "  </thead>\n",
       "  <tbody>\n",
       "    <tr>\n",
       "      <th>count</th>\n",
       "      <td>1.889000e+03</td>\n",
       "      <td>1.889000e+03</td>\n",
       "      <td>1889.000000</td>\n",
       "      <td>1889.000000</td>\n",
       "      <td>1889.000000</td>\n",
       "    </tr>\n",
       "    <tr>\n",
       "      <th>mean</th>\n",
       "      <td>5.431083e+07</td>\n",
       "      <td>1.553653e+08</td>\n",
       "      <td>109.658549</td>\n",
       "      <td>6.140762</td>\n",
       "      <td>2007.860773</td>\n",
       "    </tr>\n",
       "    <tr>\n",
       "      <th>std</th>\n",
       "      <td>4.858721e+07</td>\n",
       "      <td>2.146698e+08</td>\n",
       "      <td>18.017041</td>\n",
       "      <td>0.764763</td>\n",
       "      <td>4.468841</td>\n",
       "    </tr>\n",
       "    <tr>\n",
       "      <th>min</th>\n",
       "      <td>5.000000e+06</td>\n",
       "      <td>2.033165e+06</td>\n",
       "      <td>63.000000</td>\n",
       "      <td>3.300000</td>\n",
       "      <td>2000.000000</td>\n",
       "    </tr>\n",
       "    <tr>\n",
       "      <th>25%</th>\n",
       "      <td>2.000000e+07</td>\n",
       "      <td>3.456058e+07</td>\n",
       "      <td>97.000000</td>\n",
       "      <td>5.600000</td>\n",
       "      <td>2004.000000</td>\n",
       "    </tr>\n",
       "    <tr>\n",
       "      <th>50%</th>\n",
       "      <td>3.800000e+07</td>\n",
       "      <td>8.361541e+07</td>\n",
       "      <td>107.000000</td>\n",
       "      <td>6.100000</td>\n",
       "      <td>2008.000000</td>\n",
       "    </tr>\n",
       "    <tr>\n",
       "      <th>75%</th>\n",
       "      <td>7.200000e+07</td>\n",
       "      <td>1.782626e+08</td>\n",
       "      <td>120.000000</td>\n",
       "      <td>6.600000</td>\n",
       "      <td>2012.000000</td>\n",
       "    </tr>\n",
       "    <tr>\n",
       "      <th>max</th>\n",
       "      <td>3.800000e+08</td>\n",
       "      <td>2.781506e+09</td>\n",
       "      <td>214.000000</td>\n",
       "      <td>8.100000</td>\n",
       "      <td>2015.000000</td>\n",
       "    </tr>\n",
       "  </tbody>\n",
       "</table>\n",
       "</div>"
      ],
      "text/plain": [
       "             budget       revenue      runtime  vote_average  release_year\n",
       "count  1.889000e+03  1.889000e+03  1889.000000   1889.000000   1889.000000\n",
       "mean   5.431083e+07  1.553653e+08   109.658549      6.140762   2007.860773\n",
       "std    4.858721e+07  2.146698e+08    18.017041      0.764763      4.468841\n",
       "min    5.000000e+06  2.033165e+06    63.000000      3.300000   2000.000000\n",
       "25%    2.000000e+07  3.456058e+07    97.000000      5.600000   2004.000000\n",
       "50%    3.800000e+07  8.361541e+07   107.000000      6.100000   2008.000000\n",
       "75%    7.200000e+07  1.782626e+08   120.000000      6.600000   2012.000000\n",
       "max    3.800000e+08  2.781506e+09   214.000000      8.100000   2015.000000"
      ]
     },
     "execution_count": 75,
     "metadata": {},
     "output_type": "execute_result"
    }
   ],
   "source": [
    "data.describe()"
   ]
  },
  {
   "cell_type": "markdown",
   "metadata": {
    "colab_type": "text",
    "id": "DTIt7ezGVp-G"
   },
   "source": [
    "# Предобработка"
   ]
  },
  {
   "cell_type": "code",
   "execution_count": 76,
   "metadata": {
    "colab": {},
    "colab_type": "code",
    "id": "jNb40DwKVp-H"
   },
   "outputs": [],
   "source": [
    "answers = {} # создадим словарь для ответов\n",
    "\n",
    "# тут другие ваши предобработки колонок например:\n",
    "\n",
    "#the time given in the dataset is in string format.\n",
    "#So we need to change this in datetime format\n",
    "# ..."
   ]
  },
  {
   "cell_type": "markdown",
   "metadata": {
    "colab_type": "text",
    "id": "YxZaH-nPVp-L"
   },
   "source": [
    "# 1. У какого фильма из списка самый большой бюджет?"
   ]
  },
  {
   "cell_type": "markdown",
   "metadata": {
    "colab_type": "text",
    "id": "Nd-G5gX6Vp-M"
   },
   "source": [
    "Использовать варианты ответов в коде решения запрещено.    \n",
    "Вы думаете и в жизни у вас будут варианты ответов?)"
   ]
  },
  {
   "cell_type": "code",
   "execution_count": 77,
   "metadata": {
    "colab": {},
    "colab_type": "code",
    "id": "uVnXAY5RVp-O"
   },
   "outputs": [],
   "source": [
    "# в словарь вставляем номер вопроса и ваш ответ на него\n",
    "# Пример: \n",
    "#answers['1'] = '2. Spider-Man 3 (tt0413300)'\n",
    "# запишите свой вариант ответа\n",
    "answers['1'] = '5. Pirates of the Caribbean: On Stranger Tides'#+\n",
    "# если ответили верно, можете добавить комментарий со значком \"+\""
   ]
  },
  {
   "cell_type": "code",
   "execution_count": 78,
   "metadata": {
    "colab": {},
    "colab_type": "code",
    "id": "dZwb3m28Vp-S"
   },
   "outputs": [
    {
     "data": {
      "text/html": [
       "<div>\n",
       "<style scoped>\n",
       "    .dataframe tbody tr th:only-of-type {\n",
       "        vertical-align: middle;\n",
       "    }\n",
       "\n",
       "    .dataframe tbody tr th {\n",
       "        vertical-align: top;\n",
       "    }\n",
       "\n",
       "    .dataframe thead th {\n",
       "        text-align: right;\n",
       "    }\n",
       "</style>\n",
       "<table border=\"1\" class=\"dataframe\">\n",
       "  <thead>\n",
       "    <tr style=\"text-align: right;\">\n",
       "      <th></th>\n",
       "      <th>imdb_id</th>\n",
       "      <th>budget</th>\n",
       "      <th>revenue</th>\n",
       "      <th>original_title</th>\n",
       "      <th>cast</th>\n",
       "      <th>director</th>\n",
       "      <th>tagline</th>\n",
       "      <th>overview</th>\n",
       "      <th>runtime</th>\n",
       "      <th>genres</th>\n",
       "      <th>production_companies</th>\n",
       "      <th>release_date</th>\n",
       "      <th>vote_average</th>\n",
       "      <th>release_year</th>\n",
       "    </tr>\n",
       "  </thead>\n",
       "  <tbody>\n",
       "    <tr>\n",
       "      <th>723</th>\n",
       "      <td>tt1298650</td>\n",
       "      <td>380000000</td>\n",
       "      <td>1021683000</td>\n",
       "      <td>Pirates of the Caribbean: On Stranger Tides</td>\n",
       "      <td>Johnny Depp|PenÃ©lope Cruz|Geoffrey Rush|Ian M...</td>\n",
       "      <td>Rob Marshall</td>\n",
       "      <td>Live Forever Or Die Trying.</td>\n",
       "      <td>Captain Jack Sparrow crosses paths with a woma...</td>\n",
       "      <td>136</td>\n",
       "      <td>Adventure|Action|Fantasy</td>\n",
       "      <td>Walt Disney Pictures|Jerry Bruckheimer Films|M...</td>\n",
       "      <td>5/11/2011</td>\n",
       "      <td>6.3</td>\n",
       "      <td>2011</td>\n",
       "    </tr>\n",
       "    <tr>\n",
       "      <th>1669</th>\n",
       "      <td>tt0449088</td>\n",
       "      <td>300000000</td>\n",
       "      <td>961000000</td>\n",
       "      <td>Pirates of the Caribbean: At World's End</td>\n",
       "      <td>Johnny Depp|Orlando Bloom|Keira Knightley|Geof...</td>\n",
       "      <td>Gore Verbinski</td>\n",
       "      <td>At the end of the world, the adventure begins.</td>\n",
       "      <td>Captain Barbossa, long believed to be dead, ha...</td>\n",
       "      <td>169</td>\n",
       "      <td>Adventure|Fantasy|Action</td>\n",
       "      <td>Walt Disney Pictures|Jerry Bruckheimer Films|S...</td>\n",
       "      <td>5/19/2007</td>\n",
       "      <td>6.8</td>\n",
       "      <td>2007</td>\n",
       "    </tr>\n",
       "    <tr>\n",
       "      <th>14</th>\n",
       "      <td>tt2395427</td>\n",
       "      <td>280000000</td>\n",
       "      <td>1405035767</td>\n",
       "      <td>Avengers: Age of Ultron</td>\n",
       "      <td>Robert Downey Jr.|Chris Hemsworth|Mark Ruffalo...</td>\n",
       "      <td>Joss Whedon</td>\n",
       "      <td>A New Age Has Come.</td>\n",
       "      <td>When Tony Stark tries to jumpstart a dormant p...</td>\n",
       "      <td>141</td>\n",
       "      <td>Action|Adventure|Science Fiction</td>\n",
       "      <td>Marvel Studios|Prime Focus|Revolution Sun Studios</td>\n",
       "      <td>4/22/2015</td>\n",
       "      <td>7.4</td>\n",
       "      <td>2015</td>\n",
       "    </tr>\n",
       "    <tr>\n",
       "      <th>1014</th>\n",
       "      <td>tt0401729</td>\n",
       "      <td>260000000</td>\n",
       "      <td>284139100</td>\n",
       "      <td>John Carter</td>\n",
       "      <td>Taylor Kitsch|Lynn Collins|Mark Strong|Willem ...</td>\n",
       "      <td>Andrew Stanton</td>\n",
       "      <td>Lost in Our World. Found in Another.</td>\n",
       "      <td>Civil War vet John Carter is transplanted to M...</td>\n",
       "      <td>132</td>\n",
       "      <td>Action|Adventure|Fantasy|Science Fiction</td>\n",
       "      <td>Walt Disney Pictures</td>\n",
       "      <td>3/7/2012</td>\n",
       "      <td>6.0</td>\n",
       "      <td>2012</td>\n",
       "    </tr>\n",
       "    <tr>\n",
       "      <th>380</th>\n",
       "      <td>tt0398286</td>\n",
       "      <td>260000000</td>\n",
       "      <td>591794936</td>\n",
       "      <td>Tangled</td>\n",
       "      <td>Zachary Levi|Mandy Moore|Donna Murphy|Ron Perl...</td>\n",
       "      <td>Nathan Greno|Byron Howard</td>\n",
       "      <td>They're taking adventure to new lengths.</td>\n",
       "      <td>When the kingdom's most wanted-and most charmi...</td>\n",
       "      <td>100</td>\n",
       "      <td>Animation|Family</td>\n",
       "      <td>Walt Disney Pictures|Walt Disney Animation Stu...</td>\n",
       "      <td>11/24/2010</td>\n",
       "      <td>7.3</td>\n",
       "      <td>2010</td>\n",
       "    </tr>\n",
       "  </tbody>\n",
       "</table>\n",
       "</div>"
      ],
      "text/plain": [
       "        imdb_id     budget     revenue  \\\n",
       "723   tt1298650  380000000  1021683000   \n",
       "1669  tt0449088  300000000   961000000   \n",
       "14    tt2395427  280000000  1405035767   \n",
       "1014  tt0401729  260000000   284139100   \n",
       "380   tt0398286  260000000   591794936   \n",
       "\n",
       "                                   original_title  \\\n",
       "723   Pirates of the Caribbean: On Stranger Tides   \n",
       "1669     Pirates of the Caribbean: At World's End   \n",
       "14                        Avengers: Age of Ultron   \n",
       "1014                                  John Carter   \n",
       "380                                       Tangled   \n",
       "\n",
       "                                                   cast  \\\n",
       "723   Johnny Depp|PenÃ©lope Cruz|Geoffrey Rush|Ian M...   \n",
       "1669  Johnny Depp|Orlando Bloom|Keira Knightley|Geof...   \n",
       "14    Robert Downey Jr.|Chris Hemsworth|Mark Ruffalo...   \n",
       "1014  Taylor Kitsch|Lynn Collins|Mark Strong|Willem ...   \n",
       "380   Zachary Levi|Mandy Moore|Donna Murphy|Ron Perl...   \n",
       "\n",
       "                       director  \\\n",
       "723                Rob Marshall   \n",
       "1669             Gore Verbinski   \n",
       "14                  Joss Whedon   \n",
       "1014             Andrew Stanton   \n",
       "380   Nathan Greno|Byron Howard   \n",
       "\n",
       "                                             tagline  \\\n",
       "723                      Live Forever Or Die Trying.   \n",
       "1669  At the end of the world, the adventure begins.   \n",
       "14                               A New Age Has Come.   \n",
       "1014            Lost in Our World. Found in Another.   \n",
       "380         They're taking adventure to new lengths.   \n",
       "\n",
       "                                               overview  runtime  \\\n",
       "723   Captain Jack Sparrow crosses paths with a woma...      136   \n",
       "1669  Captain Barbossa, long believed to be dead, ha...      169   \n",
       "14    When Tony Stark tries to jumpstart a dormant p...      141   \n",
       "1014  Civil War vet John Carter is transplanted to M...      132   \n",
       "380   When the kingdom's most wanted-and most charmi...      100   \n",
       "\n",
       "                                        genres  \\\n",
       "723                   Adventure|Action|Fantasy   \n",
       "1669                  Adventure|Fantasy|Action   \n",
       "14            Action|Adventure|Science Fiction   \n",
       "1014  Action|Adventure|Fantasy|Science Fiction   \n",
       "380                           Animation|Family   \n",
       "\n",
       "                                   production_companies release_date  \\\n",
       "723   Walt Disney Pictures|Jerry Bruckheimer Films|M...    5/11/2011   \n",
       "1669  Walt Disney Pictures|Jerry Bruckheimer Films|S...    5/19/2007   \n",
       "14    Marvel Studios|Prime Focus|Revolution Sun Studios    4/22/2015   \n",
       "1014                               Walt Disney Pictures     3/7/2012   \n",
       "380   Walt Disney Pictures|Walt Disney Animation Stu...   11/24/2010   \n",
       "\n",
       "      vote_average  release_year  \n",
       "723            6.3          2011  \n",
       "1669           6.8          2007  \n",
       "14             7.4          2015  \n",
       "1014           6.0          2012  \n",
       "380            7.3          2010  "
      ]
     },
     "execution_count": 78,
     "metadata": {},
     "output_type": "execute_result"
    }
   ],
   "source": [
    "# тут пишем ваш код для решения данного вопроса:\n",
    "data_1 = data.sort_values('budget', ascending = False)\n",
    "data_1.head(5)"
   ]
  },
  {
   "cell_type": "markdown",
   "metadata": {
    "colab_type": "text",
    "id": "K7L3nbRXVp-X"
   },
   "source": [
    "ВАРИАНТ 2"
   ]
  },
  {
   "cell_type": "code",
   "execution_count": 79,
   "metadata": {
    "colab": {},
    "colab_type": "code",
    "id": "OGaoQI7rVp-X"
   },
   "outputs": [],
   "source": [
    "# можно добавлять разные варианты решения"
   ]
  },
  {
   "cell_type": "markdown",
   "metadata": {
    "colab_type": "text",
    "id": "FNRbbI3vVp-c"
   },
   "source": [
    "# 2. Какой из фильмов самый длительный (в минутах)?"
   ]
  },
  {
   "cell_type": "code",
   "execution_count": 80,
   "metadata": {
    "colab": {},
    "colab_type": "code",
    "id": "vHAoEXNTVp-d"
   },
   "outputs": [],
   "source": [
    "# думаю логику работы с этим словарем вы уже поняли, \n",
    "# по этому не буду больше его дублировать\n",
    "answers['2'] = '2. Gods and Generals'#+"
   ]
  },
  {
   "cell_type": "code",
   "execution_count": 81,
   "metadata": {
    "colab": {},
    "colab_type": "code",
    "id": "ot-VX2XrVp-g"
   },
   "outputs": [
    {
     "data": {
      "text/html": [
       "<div>\n",
       "<style scoped>\n",
       "    .dataframe tbody tr th:only-of-type {\n",
       "        vertical-align: middle;\n",
       "    }\n",
       "\n",
       "    .dataframe tbody tr th {\n",
       "        vertical-align: top;\n",
       "    }\n",
       "\n",
       "    .dataframe thead th {\n",
       "        text-align: right;\n",
       "    }\n",
       "</style>\n",
       "<table border=\"1\" class=\"dataframe\">\n",
       "  <thead>\n",
       "    <tr style=\"text-align: right;\">\n",
       "      <th></th>\n",
       "      <th>imdb_id</th>\n",
       "      <th>budget</th>\n",
       "      <th>revenue</th>\n",
       "      <th>original_title</th>\n",
       "      <th>cast</th>\n",
       "      <th>director</th>\n",
       "      <th>tagline</th>\n",
       "      <th>overview</th>\n",
       "      <th>runtime</th>\n",
       "      <th>genres</th>\n",
       "      <th>production_companies</th>\n",
       "      <th>release_date</th>\n",
       "      <th>vote_average</th>\n",
       "      <th>release_year</th>\n",
       "    </tr>\n",
       "  </thead>\n",
       "  <tbody>\n",
       "    <tr>\n",
       "      <th>1157</th>\n",
       "      <td>tt0279111</td>\n",
       "      <td>56000000</td>\n",
       "      <td>12923936</td>\n",
       "      <td>Gods and Generals</td>\n",
       "      <td>Stephen Lang|Jeff Daniels|Robert Duvall|Kevin ...</td>\n",
       "      <td>Ronald F. Maxwell</td>\n",
       "      <td>The nations heart was touched by...</td>\n",
       "      <td>The film centers mostly around the personal an...</td>\n",
       "      <td>214</td>\n",
       "      <td>Drama|History|War</td>\n",
       "      <td>Turner Pictures|Antietam Filmworks</td>\n",
       "      <td>2/21/2003</td>\n",
       "      <td>5.8</td>\n",
       "      <td>2003</td>\n",
       "    </tr>\n",
       "    <tr>\n",
       "      <th>1081</th>\n",
       "      <td>tt0167260</td>\n",
       "      <td>94000000</td>\n",
       "      <td>1118888979</td>\n",
       "      <td>The Lord of the Rings: The Return of the King</td>\n",
       "      <td>Elijah Wood|Ian McKellen|Viggo Mortensen|Liv T...</td>\n",
       "      <td>Peter Jackson</td>\n",
       "      <td>The eye of the enemy is moving.</td>\n",
       "      <td>Aragorn is revealed as the heir to the ancient...</td>\n",
       "      <td>201</td>\n",
       "      <td>Adventure|Fantasy|Action</td>\n",
       "      <td>WingNut Films|New Line Cinema</td>\n",
       "      <td>12/1/2003</td>\n",
       "      <td>7.9</td>\n",
       "      <td>2003</td>\n",
       "    </tr>\n",
       "    <tr>\n",
       "      <th>1736</th>\n",
       "      <td>tt0462322</td>\n",
       "      <td>67000000</td>\n",
       "      <td>25037897</td>\n",
       "      <td>Grindhouse</td>\n",
       "      <td>Kurt Russell|ZoÃ« Bell|Rosario Dawson|Vanessa ...</td>\n",
       "      <td>Robert Rodriguez|Eli Roth|Quentin Tarantino|Ed...</td>\n",
       "      <td>A double feature that'll tear you in two!</td>\n",
       "      <td>Two full length feature horror movies written ...</td>\n",
       "      <td>191</td>\n",
       "      <td>Thriller|Action|Horror</td>\n",
       "      <td>Big Talk Productions|Yer Dead Productions|Wein...</td>\n",
       "      <td>4/6/2007</td>\n",
       "      <td>6.5</td>\n",
       "      <td>2007</td>\n",
       "    </tr>\n",
       "    <tr>\n",
       "      <th>1336</th>\n",
       "      <td>tt0360717</td>\n",
       "      <td>207000000</td>\n",
       "      <td>550000000</td>\n",
       "      <td>King Kong</td>\n",
       "      <td>Naomi Watts|Jack Black|Adrien Brody|Thomas Kre...</td>\n",
       "      <td>Peter Jackson</td>\n",
       "      <td>The eighth wonder of the world.</td>\n",
       "      <td>In 1933 New York, an overly ambitious movie pr...</td>\n",
       "      <td>187</td>\n",
       "      <td>Adventure|Drama|Action</td>\n",
       "      <td>WingNut Films|Universal Pictures|Big Primate P...</td>\n",
       "      <td>12/14/2005</td>\n",
       "      <td>6.4</td>\n",
       "      <td>2005</td>\n",
       "    </tr>\n",
       "    <tr>\n",
       "      <th>504</th>\n",
       "      <td>tt0213149</td>\n",
       "      <td>140000000</td>\n",
       "      <td>449220945</td>\n",
       "      <td>Pearl Harbor</td>\n",
       "      <td>Ben Affleck|Josh Hartnett|Kate Beckinsale|Cuba...</td>\n",
       "      <td>Michael Bay</td>\n",
       "      <td>December 7, 1941 - A day that shall live in in...</td>\n",
       "      <td>The lifelong friendship between Rafe McCawley ...</td>\n",
       "      <td>183</td>\n",
       "      <td>History|Romance|War</td>\n",
       "      <td>Jerry Bruckheimer Films|Touchstone Pictures</td>\n",
       "      <td>5/21/2001</td>\n",
       "      <td>6.6</td>\n",
       "      <td>2001</td>\n",
       "    </tr>\n",
       "  </tbody>\n",
       "</table>\n",
       "</div>"
      ],
      "text/plain": [
       "        imdb_id     budget     revenue  \\\n",
       "1157  tt0279111   56000000    12923936   \n",
       "1081  tt0167260   94000000  1118888979   \n",
       "1736  tt0462322   67000000    25037897   \n",
       "1336  tt0360717  207000000   550000000   \n",
       "504   tt0213149  140000000   449220945   \n",
       "\n",
       "                                     original_title  \\\n",
       "1157                              Gods and Generals   \n",
       "1081  The Lord of the Rings: The Return of the King   \n",
       "1736                                     Grindhouse   \n",
       "1336                                      King Kong   \n",
       "504                                    Pearl Harbor   \n",
       "\n",
       "                                                   cast  \\\n",
       "1157  Stephen Lang|Jeff Daniels|Robert Duvall|Kevin ...   \n",
       "1081  Elijah Wood|Ian McKellen|Viggo Mortensen|Liv T...   \n",
       "1736  Kurt Russell|ZoÃ« Bell|Rosario Dawson|Vanessa ...   \n",
       "1336  Naomi Watts|Jack Black|Adrien Brody|Thomas Kre...   \n",
       "504   Ben Affleck|Josh Hartnett|Kate Beckinsale|Cuba...   \n",
       "\n",
       "                                               director  \\\n",
       "1157                                  Ronald F. Maxwell   \n",
       "1081                                      Peter Jackson   \n",
       "1736  Robert Rodriguez|Eli Roth|Quentin Tarantino|Ed...   \n",
       "1336                                      Peter Jackson   \n",
       "504                                         Michael Bay   \n",
       "\n",
       "                                                tagline  \\\n",
       "1157                The nations heart was touched by...   \n",
       "1081                    The eye of the enemy is moving.   \n",
       "1736          A double feature that'll tear you in two!   \n",
       "1336                    The eighth wonder of the world.   \n",
       "504   December 7, 1941 - A day that shall live in in...   \n",
       "\n",
       "                                               overview  runtime  \\\n",
       "1157  The film centers mostly around the personal an...      214   \n",
       "1081  Aragorn is revealed as the heir to the ancient...      201   \n",
       "1736  Two full length feature horror movies written ...      191   \n",
       "1336  In 1933 New York, an overly ambitious movie pr...      187   \n",
       "504   The lifelong friendship between Rafe McCawley ...      183   \n",
       "\n",
       "                        genres  \\\n",
       "1157         Drama|History|War   \n",
       "1081  Adventure|Fantasy|Action   \n",
       "1736    Thriller|Action|Horror   \n",
       "1336    Adventure|Drama|Action   \n",
       "504        History|Romance|War   \n",
       "\n",
       "                                   production_companies release_date  \\\n",
       "1157                 Turner Pictures|Antietam Filmworks    2/21/2003   \n",
       "1081                      WingNut Films|New Line Cinema    12/1/2003   \n",
       "1736  Big Talk Productions|Yer Dead Productions|Wein...     4/6/2007   \n",
       "1336  WingNut Films|Universal Pictures|Big Primate P...   12/14/2005   \n",
       "504         Jerry Bruckheimer Films|Touchstone Pictures    5/21/2001   \n",
       "\n",
       "      vote_average  release_year  \n",
       "1157           5.8          2003  \n",
       "1081           7.9          2003  \n",
       "1736           6.5          2007  \n",
       "1336           6.4          2005  \n",
       "504            6.6          2001  "
      ]
     },
     "execution_count": 81,
     "metadata": {},
     "output_type": "execute_result"
    }
   ],
   "source": [
    "data_1 = data.sort_values('runtime', ascending = False)\n",
    "data_1.head(5)"
   ]
  },
  {
   "cell_type": "markdown",
   "metadata": {
    "colab_type": "text",
    "id": "bapLlpW8Vp-k"
   },
   "source": [
    "# 3. Какой из фильмов самый короткий (в минутах)?\n",
    "\n",
    "\n",
    "\n"
   ]
  },
  {
   "cell_type": "code",
   "execution_count": 82,
   "metadata": {
    "colab": {},
    "colab_type": "code",
    "id": "YBxaSHuAVp-l"
   },
   "outputs": [
    {
     "data": {
      "text/html": [
       "<div>\n",
       "<style scoped>\n",
       "    .dataframe tbody tr th:only-of-type {\n",
       "        vertical-align: middle;\n",
       "    }\n",
       "\n",
       "    .dataframe tbody tr th {\n",
       "        vertical-align: top;\n",
       "    }\n",
       "\n",
       "    .dataframe thead th {\n",
       "        text-align: right;\n",
       "    }\n",
       "</style>\n",
       "<table border=\"1\" class=\"dataframe\">\n",
       "  <thead>\n",
       "    <tr style=\"text-align: right;\">\n",
       "      <th></th>\n",
       "      <th>imdb_id</th>\n",
       "      <th>budget</th>\n",
       "      <th>revenue</th>\n",
       "      <th>original_title</th>\n",
       "      <th>cast</th>\n",
       "      <th>director</th>\n",
       "      <th>tagline</th>\n",
       "      <th>overview</th>\n",
       "      <th>runtime</th>\n",
       "      <th>genres</th>\n",
       "      <th>production_companies</th>\n",
       "      <th>release_date</th>\n",
       "      <th>vote_average</th>\n",
       "      <th>release_year</th>\n",
       "    </tr>\n",
       "  </thead>\n",
       "  <tbody>\n",
       "    <tr>\n",
       "      <th>768</th>\n",
       "      <td>tt1449283</td>\n",
       "      <td>30000000</td>\n",
       "      <td>14460000</td>\n",
       "      <td>Winnie the Pooh</td>\n",
       "      <td>Jim Cummings|Travis Oates|Jim Cummings|Bud Luc...</td>\n",
       "      <td>Stephen Anderson|Don Hall</td>\n",
       "      <td>Oh Pooh.</td>\n",
       "      <td>During an ordinary day in Hundred Acre Wood, W...</td>\n",
       "      <td>63</td>\n",
       "      <td>Animation|Family</td>\n",
       "      <td>Walt Disney Pictures|Walt Disney Animation Stu...</td>\n",
       "      <td>4/13/2011</td>\n",
       "      <td>6.8</td>\n",
       "      <td>2011</td>\n",
       "    </tr>\n",
       "    <tr>\n",
       "      <th>930</th>\n",
       "      <td>tt0280030</td>\n",
       "      <td>20000000</td>\n",
       "      <td>109862682</td>\n",
       "      <td>Return to Never Land</td>\n",
       "      <td>Harriet Owen|Blayne Weaver|Jeff Bennett|Kath S...</td>\n",
       "      <td>Robin Budd|Donovan Cook</td>\n",
       "      <td>The Classic Continues</td>\n",
       "      <td>The classic tale of 'Peter Pan' continues in D...</td>\n",
       "      <td>72</td>\n",
       "      <td>Adventure|Fantasy|Animation|Family</td>\n",
       "      <td>Walt Disney Pictures|Walt Disney Television An...</td>\n",
       "      <td>2/14/2002</td>\n",
       "      <td>6.2</td>\n",
       "      <td>2002</td>\n",
       "    </tr>\n",
       "    <tr>\n",
       "      <th>1097</th>\n",
       "      <td>tt0283426</td>\n",
       "      <td>20000000</td>\n",
       "      <td>135680000</td>\n",
       "      <td>The Jungle Book 2</td>\n",
       "      <td>John Goodman|Haley Joel Osment|Mae Whitman|Phi...</td>\n",
       "      <td>Steve Trenbirth</td>\n",
       "      <td>Feel the jungle beat</td>\n",
       "      <td>Mowgli, missing the jungle and his old friends...</td>\n",
       "      <td>72</td>\n",
       "      <td>Family|Animation|Adventure</td>\n",
       "      <td>Walt Disney Pictures|Walt Disney Television An...</td>\n",
       "      <td>2/7/2003</td>\n",
       "      <td>5.6</td>\n",
       "      <td>2003</td>\n",
       "    </tr>\n",
       "    <tr>\n",
       "      <th>1408</th>\n",
       "      <td>tt0361089</td>\n",
       "      <td>35000000</td>\n",
       "      <td>19478106</td>\n",
       "      <td>Valiant</td>\n",
       "      <td>Ewan McGregor|Ricky Gervais|Tim Curry|Jim Broa...</td>\n",
       "      <td>Gary Chapman</td>\n",
       "      <td>Some pigeons eat crumbs, others make history.</td>\n",
       "      <td>The animated comedy tells the story of a lowly...</td>\n",
       "      <td>76</td>\n",
       "      <td>Animation|Family|Adventure</td>\n",
       "      <td>Vanguard Films|Scanbox</td>\n",
       "      <td>3/25/2005</td>\n",
       "      <td>5.3</td>\n",
       "      <td>2005</td>\n",
       "    </tr>\n",
       "    <tr>\n",
       "      <th>1626</th>\n",
       "      <td>tt0299172</td>\n",
       "      <td>110000000</td>\n",
       "      <td>103951461</td>\n",
       "      <td>Home on the Range</td>\n",
       "      <td>Randy Quaid|Steve Buscemi|Judi Dench|Cuba Good...</td>\n",
       "      <td>Will Finn|John Sanford</td>\n",
       "      <td>Bust a Moo.</td>\n",
       "      <td>The Little Piece of Heaven family farm is abou...</td>\n",
       "      <td>76</td>\n",
       "      <td>Western|Animation|Family|Comedy|Music</td>\n",
       "      <td>Walt Disney Pictures|Walt Disney Feature Anima...</td>\n",
       "      <td>4/2/2004</td>\n",
       "      <td>5.8</td>\n",
       "      <td>2004</td>\n",
       "    </tr>\n",
       "  </tbody>\n",
       "</table>\n",
       "</div>"
      ],
      "text/plain": [
       "        imdb_id     budget    revenue        original_title  \\\n",
       "768   tt1449283   30000000   14460000       Winnie the Pooh   \n",
       "930   tt0280030   20000000  109862682  Return to Never Land   \n",
       "1097  tt0283426   20000000  135680000     The Jungle Book 2   \n",
       "1408  tt0361089   35000000   19478106               Valiant   \n",
       "1626  tt0299172  110000000  103951461     Home on the Range   \n",
       "\n",
       "                                                   cast  \\\n",
       "768   Jim Cummings|Travis Oates|Jim Cummings|Bud Luc...   \n",
       "930   Harriet Owen|Blayne Weaver|Jeff Bennett|Kath S...   \n",
       "1097  John Goodman|Haley Joel Osment|Mae Whitman|Phi...   \n",
       "1408  Ewan McGregor|Ricky Gervais|Tim Curry|Jim Broa...   \n",
       "1626  Randy Quaid|Steve Buscemi|Judi Dench|Cuba Good...   \n",
       "\n",
       "                       director  \\\n",
       "768   Stephen Anderson|Don Hall   \n",
       "930     Robin Budd|Donovan Cook   \n",
       "1097            Steve Trenbirth   \n",
       "1408               Gary Chapman   \n",
       "1626     Will Finn|John Sanford   \n",
       "\n",
       "                                            tagline  \\\n",
       "768                                        Oh Pooh.   \n",
       "930                           The Classic Continues   \n",
       "1097                           Feel the jungle beat   \n",
       "1408  Some pigeons eat crumbs, others make history.   \n",
       "1626                                    Bust a Moo.   \n",
       "\n",
       "                                               overview  runtime  \\\n",
       "768   During an ordinary day in Hundred Acre Wood, W...       63   \n",
       "930   The classic tale of 'Peter Pan' continues in D...       72   \n",
       "1097  Mowgli, missing the jungle and his old friends...       72   \n",
       "1408  The animated comedy tells the story of a lowly...       76   \n",
       "1626  The Little Piece of Heaven family farm is abou...       76   \n",
       "\n",
       "                                     genres  \\\n",
       "768                        Animation|Family   \n",
       "930      Adventure|Fantasy|Animation|Family   \n",
       "1097             Family|Animation|Adventure   \n",
       "1408             Animation|Family|Adventure   \n",
       "1626  Western|Animation|Family|Comedy|Music   \n",
       "\n",
       "                                   production_companies release_date  \\\n",
       "768   Walt Disney Pictures|Walt Disney Animation Stu...    4/13/2011   \n",
       "930   Walt Disney Pictures|Walt Disney Television An...    2/14/2002   \n",
       "1097  Walt Disney Pictures|Walt Disney Television An...     2/7/2003   \n",
       "1408                             Vanguard Films|Scanbox    3/25/2005   \n",
       "1626  Walt Disney Pictures|Walt Disney Feature Anima...     4/2/2004   \n",
       "\n",
       "      vote_average  release_year  \n",
       "768            6.8          2011  \n",
       "930            6.2          2002  \n",
       "1097           5.6          2003  \n",
       "1408           5.3          2005  \n",
       "1626           5.8          2004  "
      ]
     },
     "execution_count": 82,
     "metadata": {},
     "output_type": "execute_result"
    }
   ],
   "source": [
    "answers['3'] = '3. Winnie the Pooh'#+\n",
    "data_1 = data.sort_values('runtime', ascending = True)\n",
    "data_1.head(5)"
   ]
  },
  {
   "cell_type": "markdown",
   "metadata": {
    "colab_type": "text",
    "id": "TfQbxbfNVp-p"
   },
   "source": [
    "# 4. Какова средняя длительность фильмов?\n"
   ]
  },
  {
   "cell_type": "code",
   "execution_count": 83,
   "metadata": {
    "colab": {},
    "colab_type": "code",
    "id": "5K6dKZYVVp-q"
   },
   "outputs": [
    {
     "data": {
      "text/plain": [
       "109.6585494970884"
      ]
     },
     "execution_count": 83,
     "metadata": {},
     "output_type": "execute_result"
    }
   ],
   "source": [
    "answers['4'] = '2. 110 min'#+\n",
    "data_1 = data.runtime.mean()\n",
    "data_1"
   ]
  },
  {
   "cell_type": "markdown",
   "metadata": {
    "colab_type": "text",
    "id": "r5TvbnT_Vp-u"
   },
   "source": [
    "# 5. Каково медианное значение длительности фильмов? "
   ]
  },
  {
   "cell_type": "code",
   "execution_count": 84,
   "metadata": {
    "colab": {},
    "colab_type": "code",
    "id": "iBROplKnVp-v"
   },
   "outputs": [
    {
     "data": {
      "text/plain": [
       "107.0"
      ]
     },
     "execution_count": 84,
     "metadata": {},
     "output_type": "execute_result"
    }
   ],
   "source": [
    "answers['5'] = '1. 107 min'#+\n",
    "data_1 = data.runtime.median()\n",
    "data_1"
   ]
  },
  {
   "cell_type": "markdown",
   "metadata": {
    "colab_type": "text",
    "id": "39P-deDSVp-y"
   },
   "source": [
    "# 6. Какой самый прибыльный фильм?\n",
    "#### Внимание! Здесь и далее под «прибылью» или «убытками» понимается разность между сборами и бюджетом фильма. (прибыль = сборы - бюджет) в нашем датасете это будет (profit = revenue - budget) "
   ]
  },
  {
   "cell_type": "code",
   "execution_count": 85,
   "metadata": {
    "colab": {},
    "colab_type": "code",
    "id": "UYZh4T9WVp-y"
   },
   "outputs": [
    {
     "data": {
      "text/html": [
       "<div>\n",
       "<style scoped>\n",
       "    .dataframe tbody tr th:only-of-type {\n",
       "        vertical-align: middle;\n",
       "    }\n",
       "\n",
       "    .dataframe tbody tr th {\n",
       "        vertical-align: top;\n",
       "    }\n",
       "\n",
       "    .dataframe thead th {\n",
       "        text-align: right;\n",
       "    }\n",
       "</style>\n",
       "<table border=\"1\" class=\"dataframe\">\n",
       "  <thead>\n",
       "    <tr style=\"text-align: right;\">\n",
       "      <th></th>\n",
       "      <th>imdb_id</th>\n",
       "      <th>budget</th>\n",
       "      <th>revenue</th>\n",
       "      <th>original_title</th>\n",
       "      <th>cast</th>\n",
       "      <th>director</th>\n",
       "      <th>tagline</th>\n",
       "      <th>overview</th>\n",
       "      <th>runtime</th>\n",
       "      <th>genres</th>\n",
       "      <th>production_companies</th>\n",
       "      <th>release_date</th>\n",
       "      <th>vote_average</th>\n",
       "      <th>release_year</th>\n",
       "      <th>profit</th>\n",
       "    </tr>\n",
       "  </thead>\n",
       "  <tbody>\n",
       "    <tr>\n",
       "      <th>239</th>\n",
       "      <td>tt0499549</td>\n",
       "      <td>237000000</td>\n",
       "      <td>2781505847</td>\n",
       "      <td>Avatar</td>\n",
       "      <td>Sam Worthington|Zoe Saldana|Sigourney Weaver|S...</td>\n",
       "      <td>James Cameron</td>\n",
       "      <td>Enter the World of Pandora.</td>\n",
       "      <td>In the 22nd century, a paraplegic Marine is di...</td>\n",
       "      <td>162</td>\n",
       "      <td>Action|Adventure|Fantasy|Science Fiction</td>\n",
       "      <td>Ingenious Film Partners|Twentieth Century Fox ...</td>\n",
       "      <td>12/10/2009</td>\n",
       "      <td>7.1</td>\n",
       "      <td>2009</td>\n",
       "      <td>2544505847</td>\n",
       "    </tr>\n",
       "    <tr>\n",
       "      <th>3</th>\n",
       "      <td>tt2488496</td>\n",
       "      <td>200000000</td>\n",
       "      <td>2068178225</td>\n",
       "      <td>Star Wars: The Force Awakens</td>\n",
       "      <td>Harrison Ford|Mark Hamill|Carrie Fisher|Adam D...</td>\n",
       "      <td>J.J. Abrams</td>\n",
       "      <td>Every generation has a story.</td>\n",
       "      <td>Thirty years after defeating the Galactic Empi...</td>\n",
       "      <td>136</td>\n",
       "      <td>Action|Adventure|Science Fiction|Fantasy</td>\n",
       "      <td>Lucasfilm|Truenorth Productions|Bad Robot</td>\n",
       "      <td>12/15/2015</td>\n",
       "      <td>7.5</td>\n",
       "      <td>2015</td>\n",
       "      <td>1868178225</td>\n",
       "    </tr>\n",
       "    <tr>\n",
       "      <th>0</th>\n",
       "      <td>tt0369610</td>\n",
       "      <td>150000000</td>\n",
       "      <td>1513528810</td>\n",
       "      <td>Jurassic World</td>\n",
       "      <td>Chris Pratt|Bryce Dallas Howard|Irrfan Khan|Vi...</td>\n",
       "      <td>Colin Trevorrow</td>\n",
       "      <td>The park is open.</td>\n",
       "      <td>Twenty-two years after the events of Jurassic ...</td>\n",
       "      <td>124</td>\n",
       "      <td>Action|Adventure|Science Fiction|Thriller</td>\n",
       "      <td>Universal Studios|Amblin Entertainment|Legenda...</td>\n",
       "      <td>6/9/2015</td>\n",
       "      <td>6.5</td>\n",
       "      <td>2015</td>\n",
       "      <td>1363528810</td>\n",
       "    </tr>\n",
       "  </tbody>\n",
       "</table>\n",
       "</div>"
      ],
      "text/plain": [
       "       imdb_id     budget     revenue                original_title  \\\n",
       "239  tt0499549  237000000  2781505847                        Avatar   \n",
       "3    tt2488496  200000000  2068178225  Star Wars: The Force Awakens   \n",
       "0    tt0369610  150000000  1513528810                Jurassic World   \n",
       "\n",
       "                                                  cast         director  \\\n",
       "239  Sam Worthington|Zoe Saldana|Sigourney Weaver|S...    James Cameron   \n",
       "3    Harrison Ford|Mark Hamill|Carrie Fisher|Adam D...      J.J. Abrams   \n",
       "0    Chris Pratt|Bryce Dallas Howard|Irrfan Khan|Vi...  Colin Trevorrow   \n",
       "\n",
       "                           tagline  \\\n",
       "239    Enter the World of Pandora.   \n",
       "3    Every generation has a story.   \n",
       "0                The park is open.   \n",
       "\n",
       "                                              overview  runtime  \\\n",
       "239  In the 22nd century, a paraplegic Marine is di...      162   \n",
       "3    Thirty years after defeating the Galactic Empi...      136   \n",
       "0    Twenty-two years after the events of Jurassic ...      124   \n",
       "\n",
       "                                        genres  \\\n",
       "239   Action|Adventure|Fantasy|Science Fiction   \n",
       "3     Action|Adventure|Science Fiction|Fantasy   \n",
       "0    Action|Adventure|Science Fiction|Thriller   \n",
       "\n",
       "                                  production_companies release_date  \\\n",
       "239  Ingenious Film Partners|Twentieth Century Fox ...   12/10/2009   \n",
       "3            Lucasfilm|Truenorth Productions|Bad Robot   12/15/2015   \n",
       "0    Universal Studios|Amblin Entertainment|Legenda...     6/9/2015   \n",
       "\n",
       "     vote_average  release_year      profit  \n",
       "239           7.1          2009  2544505847  \n",
       "3             7.5          2015  1868178225  \n",
       "0             6.5          2015  1363528810  "
      ]
     },
     "execution_count": 85,
     "metadata": {},
     "output_type": "execute_result"
    }
   ],
   "source": [
    "# лучше код получения столбца profit вынести в Предобработку что в начале\n",
    "answers['6'] = '5. Avatar'#+\n",
    "data_2 = data.copy()\n",
    "data_2['profit'] = data.revenue - data.budget\n",
    "data_3 = data_2.sort_values('profit', ascending = False)\n",
    "data_3.head(3)"
   ]
  },
  {
   "cell_type": "markdown",
   "metadata": {
    "colab_type": "text",
    "id": "M99JmIX4Vp-2"
   },
   "source": [
    "# 7. Какой фильм самый убыточный? "
   ]
  },
  {
   "cell_type": "code",
   "execution_count": 86,
   "metadata": {
    "colab": {},
    "colab_type": "code",
    "id": "w-D2m4XPVp-3"
   },
   "outputs": [
    {
     "data": {
      "text/html": [
       "<div>\n",
       "<style scoped>\n",
       "    .dataframe tbody tr th:only-of-type {\n",
       "        vertical-align: middle;\n",
       "    }\n",
       "\n",
       "    .dataframe tbody tr th {\n",
       "        vertical-align: top;\n",
       "    }\n",
       "\n",
       "    .dataframe thead th {\n",
       "        text-align: right;\n",
       "    }\n",
       "</style>\n",
       "<table border=\"1\" class=\"dataframe\">\n",
       "  <thead>\n",
       "    <tr style=\"text-align: right;\">\n",
       "      <th></th>\n",
       "      <th>imdb_id</th>\n",
       "      <th>budget</th>\n",
       "      <th>revenue</th>\n",
       "      <th>original_title</th>\n",
       "      <th>cast</th>\n",
       "      <th>director</th>\n",
       "      <th>tagline</th>\n",
       "      <th>overview</th>\n",
       "      <th>runtime</th>\n",
       "      <th>genres</th>\n",
       "      <th>production_companies</th>\n",
       "      <th>release_date</th>\n",
       "      <th>vote_average</th>\n",
       "      <th>release_year</th>\n",
       "      <th>profit</th>\n",
       "    </tr>\n",
       "  </thead>\n",
       "  <tbody>\n",
       "    <tr>\n",
       "      <th>1245</th>\n",
       "      <td>tt1210819</td>\n",
       "      <td>255000000</td>\n",
       "      <td>89289910</td>\n",
       "      <td>The Lone Ranger</td>\n",
       "      <td>Johnny Depp|Armie Hammer|William Fichtner|Hele...</td>\n",
       "      <td>Gore Verbinski</td>\n",
       "      <td>Never Take Off the Mask</td>\n",
       "      <td>The Texas Rangers chase down a gang of outlaws...</td>\n",
       "      <td>149</td>\n",
       "      <td>Action|Adventure|Western</td>\n",
       "      <td>Walt Disney Pictures|Jerry Bruckheimer Films|I...</td>\n",
       "      <td>7/3/2013</td>\n",
       "      <td>6.0</td>\n",
       "      <td>2013</td>\n",
       "      <td>-165710090</td>\n",
       "    </tr>\n",
       "    <tr>\n",
       "      <th>1616</th>\n",
       "      <td>tt0318974</td>\n",
       "      <td>145000000</td>\n",
       "      <td>25819961</td>\n",
       "      <td>The Alamo</td>\n",
       "      <td>Dennis Quaid|Billy Bob Thornton|Jason Patric|P...</td>\n",
       "      <td>John Lee Hancock</td>\n",
       "      <td>You will never forget</td>\n",
       "      <td>Based on the 1836 standoff between a group of ...</td>\n",
       "      <td>137</td>\n",
       "      <td>Western|History|War</td>\n",
       "      <td>Imagine Entertainment|Touchstone Pictures</td>\n",
       "      <td>4/7/2004</td>\n",
       "      <td>5.9</td>\n",
       "      <td>2004</td>\n",
       "      <td>-119180039</td>\n",
       "    </tr>\n",
       "    <tr>\n",
       "      <th>809</th>\n",
       "      <td>tt1305591</td>\n",
       "      <td>150000000</td>\n",
       "      <td>38992758</td>\n",
       "      <td>Mars Needs Moms</td>\n",
       "      <td>Seth Green|Joan Cusack|Dan Fogler|Breckin Meye...</td>\n",
       "      <td>Simon Wells</td>\n",
       "      <td>Mom needs a little space.</td>\n",
       "      <td>When Martians suddenly abduct his mom, mischie...</td>\n",
       "      <td>88</td>\n",
       "      <td>Adventure|Animation|Family</td>\n",
       "      <td>Walt Disney Animation Studios</td>\n",
       "      <td>3/9/2011</td>\n",
       "      <td>5.5</td>\n",
       "      <td>2011</td>\n",
       "      <td>-111007242</td>\n",
       "    </tr>\n",
       "  </tbody>\n",
       "</table>\n",
       "</div>"
      ],
      "text/plain": [
       "        imdb_id     budget   revenue   original_title  \\\n",
       "1245  tt1210819  255000000  89289910  The Lone Ranger   \n",
       "1616  tt0318974  145000000  25819961        The Alamo   \n",
       "809   tt1305591  150000000  38992758  Mars Needs Moms   \n",
       "\n",
       "                                                   cast          director  \\\n",
       "1245  Johnny Depp|Armie Hammer|William Fichtner|Hele...    Gore Verbinski   \n",
       "1616  Dennis Quaid|Billy Bob Thornton|Jason Patric|P...  John Lee Hancock   \n",
       "809   Seth Green|Joan Cusack|Dan Fogler|Breckin Meye...       Simon Wells   \n",
       "\n",
       "                        tagline  \\\n",
       "1245    Never Take Off the Mask   \n",
       "1616      You will never forget   \n",
       "809   Mom needs a little space.   \n",
       "\n",
       "                                               overview  runtime  \\\n",
       "1245  The Texas Rangers chase down a gang of outlaws...      149   \n",
       "1616  Based on the 1836 standoff between a group of ...      137   \n",
       "809   When Martians suddenly abduct his mom, mischie...       88   \n",
       "\n",
       "                          genres  \\\n",
       "1245    Action|Adventure|Western   \n",
       "1616         Western|History|War   \n",
       "809   Adventure|Animation|Family   \n",
       "\n",
       "                                   production_companies release_date  \\\n",
       "1245  Walt Disney Pictures|Jerry Bruckheimer Films|I...     7/3/2013   \n",
       "1616          Imagine Entertainment|Touchstone Pictures     4/7/2004   \n",
       "809                       Walt Disney Animation Studios     3/9/2011   \n",
       "\n",
       "      vote_average  release_year     profit  \n",
       "1245           6.0          2013 -165710090  \n",
       "1616           5.9          2004 -119180039  \n",
       "809            5.5          2011 -111007242  "
      ]
     },
     "execution_count": 86,
     "metadata": {},
     "output_type": "execute_result"
    }
   ],
   "source": [
    "answers['7'] = '5. The Lone Ranger'#+\n",
    "data_3 = data_2.sort_values('profit', ascending = True)\n",
    "data_3.head(3)"
   ]
  },
  {
   "cell_type": "markdown",
   "metadata": {
    "colab_type": "text",
    "id": "wEOM5ERVVp-6"
   },
   "source": [
    "# 8. У скольких фильмов из датасета объем сборов оказался выше бюджета?"
   ]
  },
  {
   "cell_type": "code",
   "execution_count": 87,
   "metadata": {
    "colab": {},
    "colab_type": "code",
    "id": "y00_7HD6Vp-7"
   },
   "outputs": [
    {
     "data": {
      "text/plain": [
       "True     1478\n",
       "False     411\n",
       "Name: profit, dtype: int64"
      ]
     },
     "execution_count": 87,
     "metadata": {},
     "output_type": "execute_result"
    }
   ],
   "source": [
    "answers['8'] = '1. 1478'#+\n",
    "data_2 = data.copy()\n",
    "data_2['profit'] = data.revenue - data.budget\n",
    "data_4  = data_2.profit.apply(lambda x:x>0)\n",
    "data_4.value_counts()"
   ]
  },
  {
   "cell_type": "markdown",
   "metadata": {
    "colab_type": "text",
    "id": "xhpspA9KVp_A"
   },
   "source": [
    "# 9. Какой фильм оказался самым кассовым в 2008 году?"
   ]
  },
  {
   "cell_type": "code",
   "execution_count": 88,
   "metadata": {
    "colab": {},
    "colab_type": "code",
    "id": "MoUyQr9RVp_B"
   },
   "outputs": [
    {
     "data": {
      "text/html": [
       "<div>\n",
       "<style scoped>\n",
       "    .dataframe tbody tr th:only-of-type {\n",
       "        vertical-align: middle;\n",
       "    }\n",
       "\n",
       "    .dataframe tbody tr th {\n",
       "        vertical-align: top;\n",
       "    }\n",
       "\n",
       "    .dataframe thead th {\n",
       "        text-align: right;\n",
       "    }\n",
       "</style>\n",
       "<table border=\"1\" class=\"dataframe\">\n",
       "  <thead>\n",
       "    <tr style=\"text-align: right;\">\n",
       "      <th></th>\n",
       "      <th>imdb_id</th>\n",
       "      <th>budget</th>\n",
       "      <th>revenue</th>\n",
       "      <th>original_title</th>\n",
       "      <th>cast</th>\n",
       "      <th>director</th>\n",
       "      <th>tagline</th>\n",
       "      <th>overview</th>\n",
       "      <th>runtime</th>\n",
       "      <th>genres</th>\n",
       "      <th>production_companies</th>\n",
       "      <th>release_date</th>\n",
       "      <th>vote_average</th>\n",
       "      <th>release_year</th>\n",
       "      <th>profit</th>\n",
       "    </tr>\n",
       "  </thead>\n",
       "  <tbody>\n",
       "    <tr>\n",
       "      <th>599</th>\n",
       "      <td>tt0468569</td>\n",
       "      <td>185000000</td>\n",
       "      <td>1001921825</td>\n",
       "      <td>The Dark Knight</td>\n",
       "      <td>Christian Bale|Michael Caine|Heath Ledger|Aaro...</td>\n",
       "      <td>Christopher Nolan</td>\n",
       "      <td>Why So Serious?</td>\n",
       "      <td>Batman raises the stakes in his war on crime. ...</td>\n",
       "      <td>152</td>\n",
       "      <td>Drama|Action|Crime|Thriller</td>\n",
       "      <td>DC Comics|Legendary Pictures|Warner Bros.|Syncopy</td>\n",
       "      <td>7/16/2008</td>\n",
       "      <td>8.1</td>\n",
       "      <td>2008</td>\n",
       "      <td>816921825</td>\n",
       "    </tr>\n",
       "    <tr>\n",
       "      <th>603</th>\n",
       "      <td>tt0367882</td>\n",
       "      <td>185000000</td>\n",
       "      <td>786636033</td>\n",
       "      <td>Indiana Jones and the Kingdom of the Crystal S...</td>\n",
       "      <td>Harrison Ford|Cate Blanchett|Shia LaBeouf|Ray ...</td>\n",
       "      <td>Steven Spielberg</td>\n",
       "      <td>The adventure continues . . .</td>\n",
       "      <td>Set during the Cold War, the Soviets â€“ led b...</td>\n",
       "      <td>122</td>\n",
       "      <td>Adventure|Action</td>\n",
       "      <td>Lucasfilm|Paramount Pictures</td>\n",
       "      <td>5/21/2008</td>\n",
       "      <td>5.6</td>\n",
       "      <td>2008</td>\n",
       "      <td>601636033</td>\n",
       "    </tr>\n",
       "    <tr>\n",
       "      <th>607</th>\n",
       "      <td>tt0795421</td>\n",
       "      <td>52000000</td>\n",
       "      <td>609841637</td>\n",
       "      <td>Mamma Mia!</td>\n",
       "      <td>Meryl Streep|Pierce Brosnan|Amanda Seyfried|Co...</td>\n",
       "      <td>Phyllida Lloyd</td>\n",
       "      <td>Take a trip down the aisle you'll never forget</td>\n",
       "      <td>Set on an idyllic Greek island, the plot serve...</td>\n",
       "      <td>108</td>\n",
       "      <td>Comedy|Romance</td>\n",
       "      <td>Universal Pictures|Internationale Filmprodukti...</td>\n",
       "      <td>6/30/2008</td>\n",
       "      <td>6.2</td>\n",
       "      <td>2008</td>\n",
       "      <td>557841637</td>\n",
       "    </tr>\n",
       "  </tbody>\n",
       "</table>\n",
       "</div>"
      ],
      "text/plain": [
       "       imdb_id     budget     revenue  \\\n",
       "599  tt0468569  185000000  1001921825   \n",
       "603  tt0367882  185000000   786636033   \n",
       "607  tt0795421   52000000   609841637   \n",
       "\n",
       "                                        original_title  \\\n",
       "599                                    The Dark Knight   \n",
       "603  Indiana Jones and the Kingdom of the Crystal S...   \n",
       "607                                         Mamma Mia!   \n",
       "\n",
       "                                                  cast           director  \\\n",
       "599  Christian Bale|Michael Caine|Heath Ledger|Aaro...  Christopher Nolan   \n",
       "603  Harrison Ford|Cate Blanchett|Shia LaBeouf|Ray ...   Steven Spielberg   \n",
       "607  Meryl Streep|Pierce Brosnan|Amanda Seyfried|Co...     Phyllida Lloyd   \n",
       "\n",
       "                                            tagline  \\\n",
       "599                                 Why So Serious?   \n",
       "603                   The adventure continues . . .   \n",
       "607  Take a trip down the aisle you'll never forget   \n",
       "\n",
       "                                              overview  runtime  \\\n",
       "599  Batman raises the stakes in his war on crime. ...      152   \n",
       "603  Set during the Cold War, the Soviets â€“ led b...      122   \n",
       "607  Set on an idyllic Greek island, the plot serve...      108   \n",
       "\n",
       "                          genres  \\\n",
       "599  Drama|Action|Crime|Thriller   \n",
       "603             Adventure|Action   \n",
       "607               Comedy|Romance   \n",
       "\n",
       "                                  production_companies release_date  \\\n",
       "599  DC Comics|Legendary Pictures|Warner Bros.|Syncopy    7/16/2008   \n",
       "603                       Lucasfilm|Paramount Pictures    5/21/2008   \n",
       "607  Universal Pictures|Internationale Filmprodukti...    6/30/2008   \n",
       "\n",
       "     vote_average  release_year     profit  \n",
       "599           8.1          2008  816921825  \n",
       "603           5.6          2008  601636033  \n",
       "607           6.2          2008  557841637  "
      ]
     },
     "execution_count": 88,
     "metadata": {},
     "output_type": "execute_result"
    }
   ],
   "source": [
    "answers['9'] = '4. The Dark Knight'#+\n",
    "data_2 = data.copy()\n",
    "data_2['profit'] = data.revenue - data.budget\n",
    "data_5 = data_2.loc[data_2['release_year'] == 2008]\n",
    "data_6  = data_5.sort_values('profit', ascending = False)\n",
    "data_6.head(3)"
   ]
  },
  {
   "cell_type": "markdown",
   "metadata": {
    "colab_type": "text",
    "id": "Zi4hDKidVp_F"
   },
   "source": [
    "# 10. Самый убыточный фильм за период с 2012 по 2014 г. (включительно)?\n"
   ]
  },
  {
   "cell_type": "code",
   "execution_count": 89,
   "metadata": {
    "colab": {},
    "colab_type": "code",
    "id": "XqyRmufJVp_F"
   },
   "outputs": [
    {
     "data": {
      "text/html": [
       "<div>\n",
       "<style scoped>\n",
       "    .dataframe tbody tr th:only-of-type {\n",
       "        vertical-align: middle;\n",
       "    }\n",
       "\n",
       "    .dataframe tbody tr th {\n",
       "        vertical-align: top;\n",
       "    }\n",
       "\n",
       "    .dataframe thead th {\n",
       "        text-align: right;\n",
       "    }\n",
       "</style>\n",
       "<table border=\"1\" class=\"dataframe\">\n",
       "  <thead>\n",
       "    <tr style=\"text-align: right;\">\n",
       "      <th></th>\n",
       "      <th>imdb_id</th>\n",
       "      <th>budget</th>\n",
       "      <th>revenue</th>\n",
       "      <th>original_title</th>\n",
       "      <th>cast</th>\n",
       "      <th>director</th>\n",
       "      <th>tagline</th>\n",
       "      <th>overview</th>\n",
       "      <th>runtime</th>\n",
       "      <th>genres</th>\n",
       "      <th>production_companies</th>\n",
       "      <th>release_date</th>\n",
       "      <th>vote_average</th>\n",
       "      <th>release_year</th>\n",
       "      <th>profit</th>\n",
       "    </tr>\n",
       "  </thead>\n",
       "  <tbody>\n",
       "    <tr>\n",
       "      <th>1245</th>\n",
       "      <td>tt1210819</td>\n",
       "      <td>255000000</td>\n",
       "      <td>89289910</td>\n",
       "      <td>The Lone Ranger</td>\n",
       "      <td>Johnny Depp|Armie Hammer|William Fichtner|Hele...</td>\n",
       "      <td>Gore Verbinski</td>\n",
       "      <td>Never Take Off the Mask</td>\n",
       "      <td>The Texas Rangers chase down a gang of outlaws...</td>\n",
       "      <td>149</td>\n",
       "      <td>Action|Adventure|Western</td>\n",
       "      <td>Walt Disney Pictures|Jerry Bruckheimer Films|I...</td>\n",
       "      <td>7/3/2013</td>\n",
       "      <td>6.0</td>\n",
       "      <td>2013</td>\n",
       "      <td>-165710090</td>\n",
       "    </tr>\n",
       "    <tr>\n",
       "      <th>1214</th>\n",
       "      <td>tt0790736</td>\n",
       "      <td>130000000</td>\n",
       "      <td>61648500</td>\n",
       "      <td>R.I.P.D.</td>\n",
       "      <td>Jeff Bridges|Ryan Reynolds|Kevin Bacon|Stephan...</td>\n",
       "      <td>Robert Schwentke</td>\n",
       "      <td>To protect and serve the living</td>\n",
       "      <td>A recently slain cop joins a team of undead po...</td>\n",
       "      <td>96</td>\n",
       "      <td>Fantasy|Action|Comedy|Crime</td>\n",
       "      <td>Universal Pictures|Original Film|Dark Horse En...</td>\n",
       "      <td>7/18/2013</td>\n",
       "      <td>5.3</td>\n",
       "      <td>2013</td>\n",
       "      <td>-68351500</td>\n",
       "    </tr>\n",
       "    <tr>\n",
       "      <th>1007</th>\n",
       "      <td>tt1374992</td>\n",
       "      <td>60000000</td>\n",
       "      <td>8106475</td>\n",
       "      <td>Upside Down</td>\n",
       "      <td>Kirsten Dunst|Jim Sturgess|Timothy Spall|James...</td>\n",
       "      <td>Juan Diego Solanas</td>\n",
       "      <td>Two worlds. One future.</td>\n",
       "      <td>In an alternate universe where twinned worlds ...</td>\n",
       "      <td>104</td>\n",
       "      <td>Romance|Science Fiction|Drama|Fantasy</td>\n",
       "      <td>Onyx Films|Studio 37|Jouror Productions|France...</td>\n",
       "      <td>9/27/2012</td>\n",
       "      <td>6.1</td>\n",
       "      <td>2012</td>\n",
       "      <td>-51893525</td>\n",
       "    </tr>\n",
       "  </tbody>\n",
       "</table>\n",
       "</div>"
      ],
      "text/plain": [
       "        imdb_id     budget   revenue   original_title  \\\n",
       "1245  tt1210819  255000000  89289910  The Lone Ranger   \n",
       "1214  tt0790736  130000000  61648500         R.I.P.D.   \n",
       "1007  tt1374992   60000000   8106475      Upside Down   \n",
       "\n",
       "                                                   cast            director  \\\n",
       "1245  Johnny Depp|Armie Hammer|William Fichtner|Hele...      Gore Verbinski   \n",
       "1214  Jeff Bridges|Ryan Reynolds|Kevin Bacon|Stephan...    Robert Schwentke   \n",
       "1007  Kirsten Dunst|Jim Sturgess|Timothy Spall|James...  Juan Diego Solanas   \n",
       "\n",
       "                              tagline  \\\n",
       "1245          Never Take Off the Mask   \n",
       "1214  To protect and serve the living   \n",
       "1007          Two worlds. One future.   \n",
       "\n",
       "                                               overview  runtime  \\\n",
       "1245  The Texas Rangers chase down a gang of outlaws...      149   \n",
       "1214  A recently slain cop joins a team of undead po...       96   \n",
       "1007  In an alternate universe where twinned worlds ...      104   \n",
       "\n",
       "                                     genres  \\\n",
       "1245               Action|Adventure|Western   \n",
       "1214            Fantasy|Action|Comedy|Crime   \n",
       "1007  Romance|Science Fiction|Drama|Fantasy   \n",
       "\n",
       "                                   production_companies release_date  \\\n",
       "1245  Walt Disney Pictures|Jerry Bruckheimer Films|I...     7/3/2013   \n",
       "1214  Universal Pictures|Original Film|Dark Horse En...    7/18/2013   \n",
       "1007  Onyx Films|Studio 37|Jouror Productions|France...    9/27/2012   \n",
       "\n",
       "      vote_average  release_year     profit  \n",
       "1245           6.0          2013 -165710090  \n",
       "1214           5.3          2013  -68351500  \n",
       "1007           6.1          2012  -51893525  "
      ]
     },
     "execution_count": 89,
     "metadata": {},
     "output_type": "execute_result"
    }
   ],
   "source": [
    "answers['10'] = '5. The Lone Ranger'#+\n",
    "data_2 = data.copy()\n",
    "data_2['profit'] = data.revenue - data.budget\n",
    "data_5 = data_2.loc[(data_2['release_year'] >= 2012) & (data_2['release_year'] <= 2014)]\n",
    "data_6  = data_5.sort_values('profit', ascending = True)\n",
    "data_6.head(3)"
   ]
  },
  {
   "cell_type": "markdown",
   "metadata": {
    "colab_type": "text",
    "id": "EA7Sa9dkVp_I"
   },
   "source": [
    "# 11. Какого жанра фильмов больше всего?"
   ]
  },
  {
   "cell_type": "code",
   "execution_count": 90,
   "metadata": {
    "colab": {},
    "colab_type": "code",
    "id": "zsJAwJ8QVp_J"
   },
   "outputs": [
    {
     "data": {
      "text/plain": [
       "Comedy                                     141\n",
       "Drama                                      102\n",
       "Comedy|Romance                              60\n",
       "Drama|Romance                               45\n",
       "Comedy|Drama|Romance                        35\n",
       "                                          ... \n",
       "Drama|Science Fiction|Mystery|Romance        1\n",
       "Comedy|Crime|Thriller                        1\n",
       "Action|Fantasy|Science Fiction|Thriller      1\n",
       "Thriller|Action|Adventure|Drama              1\n",
       "Action|Thriller|Science Fiction|Mystery      1\n",
       "Name: genres, Length: 652, dtype: int64"
      ]
     },
     "execution_count": 90,
     "metadata": {},
     "output_type": "execute_result"
    }
   ],
   "source": [
    "# эту задачу тоже можно решать разными подходами, попробуй реализовать разные варианты\n",
    "# если будешь добавлять функцию - выноси ее в предобработку что в начале\n",
    "answers['11'] = '3. Drama'#+\n",
    "data_4  = data_2.genres\n",
    "data_4.value_counts()"
   ]
  },
  {
   "cell_type": "markdown",
   "metadata": {
    "colab_type": "text",
    "id": "Ax6g2C8SVp_M"
   },
   "source": [
    "ВАРИАНТ 2"
   ]
  },
  {
   "cell_type": "code",
   "execution_count": 91,
   "metadata": {
    "colab": {},
    "colab_type": "code",
    "id": "otO3SbrSVp_N"
   },
   "outputs": [
    {
     "data": {
      "text/plain": [
       "genres\n",
       "Drama              782\n",
       "Comedy             683\n",
       "Thriller           596\n",
       "Action             582\n",
       "Adventure          415\n",
       "Crime              315\n",
       "Romance            308\n",
       "Family             260\n",
       "Science Fiction    248\n",
       "Fantasy            222\n",
       "Horror             176\n",
       "Mystery            168\n",
       "Animation          139\n",
       "Music               64\n",
       "History             62\n",
       "War                 58\n",
       "Western             19\n",
       "Documentary          8\n",
       "Foreign              2\n",
       "Name: profit, dtype: int64"
      ]
     },
     "execution_count": 91,
     "metadata": {},
     "output_type": "execute_result"
    }
   ],
   "source": [
    "data_11 = data_2.copy()\n",
    "data_11['genres'] = data_11['genres'].str.split('|')\n",
    "data_11 = data_11.explode('genres')\n",
    "\n",
    "data_11.groupby(by = 'genres')['profit'].count().sort_values(ascending = False)"
   ]
  },
  {
   "cell_type": "markdown",
   "metadata": {
    "colab_type": "text",
    "id": "T9_bPWpkVp_Q"
   },
   "source": [
    "# 12. Фильмы какого жанра чаще всего становятся прибыльными? "
   ]
  },
  {
   "cell_type": "code",
   "execution_count": 92,
   "metadata": {
    "colab": {},
    "colab_type": "code",
    "id": "Tmt8MaK1Vp_R"
   },
   "outputs": [
    {
     "data": {
      "text/plain": [
       "genres\n",
       "Drama              560\n",
       "Comedy             551\n",
       "Thriller           446\n",
       "Action             444\n",
       "Adventure          337\n",
       "Romance            242\n",
       "Crime              231\n",
       "Family             226\n",
       "Science Fiction    195\n",
       "Fantasy            188\n",
       "Horror             150\n",
       "Animation          120\n",
       "Mystery            119\n",
       "Music               47\n",
       "History             46\n",
       "War                 41\n",
       "Western             12\n",
       "Documentary          7\n",
       "Name: profit, dtype: int64"
      ]
     },
     "execution_count": 92,
     "metadata": {},
     "output_type": "execute_result"
    }
   ],
   "source": [
    "answers['12'] = '1. Drama'#+\n",
    "\n",
    "data_12 = data_2.copy()\n",
    "data_12['genres'] = data_12['genres'].str.split('|')\n",
    "data_12 = data_12.explode('genres')\n",
    "\n",
    "data_12[data_12['profit'] > 0].groupby(by = 'genres')['profit'].count().sort_values(ascending = False)"
   ]
  },
  {
   "cell_type": "markdown",
   "metadata": {
    "colab_type": "text",
    "id": "0F23bgsDVp_U"
   },
   "source": [
    "# 13. У какого режиссера самые большие суммарные кассовые сборы?"
   ]
  },
  {
   "cell_type": "code",
   "execution_count": 93,
   "metadata": {
    "colab": {},
    "colab_type": "code",
    "id": "K6Z3J8ygVp_X"
   },
   "outputs": [
    {
     "data": {
      "text/plain": [
       "director\n",
       "Peter Jackson        5202593685\n",
       "David Yates          3379295625\n",
       "Christopher Nolan    3162548502\n",
       "J.J. Abrams          2839169916\n",
       "Michael Bay          2760938960\n",
       "                        ...    \n",
       "Jack Sholder          -75171919\n",
       "Peter Hyams           -86956545\n",
       "Ron Underwood         -92896027\n",
       "James L. Brooks       -96289726\n",
       "Walter Hill          -128283462\n",
       "Name: profit, Length: 997, dtype: int64"
      ]
     },
     "execution_count": 93,
     "metadata": {},
     "output_type": "execute_result"
    }
   ],
   "source": [
    "answers['13'] = '5. Peter Jackson'#+\n",
    "\n",
    "data_13 = data_2.copy()\n",
    "data_13['director'] = data_13['director'].str.split('|')\n",
    "data_13 = data_13.explode('director')\n",
    "\n",
    "data_13.groupby(by = 'director')['profit'].sum().sort_values(ascending = False)"
   ]
  },
  {
   "cell_type": "markdown",
   "metadata": {
    "colab_type": "text",
    "id": "PsYC9FgRVp_a"
   },
   "source": [
    "# 14. Какой режисер снял больше всего фильмов в стиле Action?"
   ]
  },
  {
   "cell_type": "code",
   "execution_count": 94,
   "metadata": {
    "colab": {},
    "colab_type": "code",
    "id": "wd2M-wHeVp_b"
   },
   "outputs": [
    {
     "data": {
      "text/plain": [
       "director\n",
       "Robert Rodriguez      9\n",
       "Michael Bay           7\n",
       "Paul W.S. Anderson    7\n",
       "Ridley Scott          6\n",
       "Antoine Fuqua         6\n",
       "                     ..\n",
       "John Whitesell        1\n",
       "Brian A Miller        1\n",
       "Jon Amiel             1\n",
       "Jon Avnet             1\n",
       "Luis Mandoki          1\n",
       "Name: genres, Length: 364, dtype: int64"
      ]
     },
     "execution_count": 94,
     "metadata": {},
     "output_type": "execute_result"
    }
   ],
   "source": [
    "answers['14'] = '3. Robert Rodriguez'#+\n",
    "\n",
    "data_14 = data_2.copy()\n",
    "data_14['director'] = data_14['director'].str.split('|')\n",
    "data_14['genres'] = data_14['genres'].str.split('|')\n",
    "data_14 = data_14.explode('director')\n",
    "data_14 = data_14.explode('genres')\n",
    "\n",
    "data_14[data_14['genres'] == 'Action'].groupby(by = 'director')['genres'].count().sort_values(ascending = False)"
   ]
  },
  {
   "cell_type": "markdown",
   "metadata": {
    "colab_type": "text",
    "id": "PQ0KciD7Vp_f"
   },
   "source": [
    "# 15. Фильмы с каким актером принесли самые высокие кассовые сборы в 2012 году? "
   ]
  },
  {
   "cell_type": "code",
   "execution_count": 95,
   "metadata": {
    "colab": {},
    "colab_type": "code",
    "id": "aga62oeKVp_g"
   },
   "outputs": [
    {
     "data": {
      "text/plain": [
       "cast\n",
       "Chris Hemsworth       1542450773\n",
       "Denis Leary           1319460639\n",
       "Scarlett Johansson    1299557910\n",
       "Chris Evans           1299557910\n",
       "Mark Ruffalo          1299557910\n",
       "                         ...    \n",
       "Malin Ã…kerman         -43733509\n",
       "Timothy Spall          -51893525\n",
       "Heidi Hawkins          -51893525\n",
       "James Kidnie           -51893525\n",
       "Kirsten Dunst          -68109207\n",
       "Name: profit, Length: 466, dtype: int64"
      ]
     },
     "execution_count": 95,
     "metadata": {},
     "output_type": "execute_result"
    }
   ],
   "source": [
    "answers['15'] = '3. Chris Hemsworth'#+\n",
    "\n",
    "data_15 = data_2.copy()\n",
    "data_15['cast'] = data_15['cast'].str.split('|')\n",
    "data_15 = data_15.explode('cast')\n",
    "\n",
    "data_15[data_15['release_year'] == 2012].groupby(by = 'cast')['profit'].sum().sort_values(ascending = False)"
   ]
  },
  {
   "cell_type": "markdown",
   "metadata": {
    "colab_type": "text",
    "id": "mWHyyL7QVp_j"
   },
   "source": [
    "# 16. Какой актер снялся в большем количестве высокобюджетных фильмов?"
   ]
  },
  {
   "cell_type": "code",
   "execution_count": 96,
   "metadata": {
    "colab": {},
    "colab_type": "code",
    "id": "qQtmHKTFVp_k"
   },
   "outputs": [
    {
     "data": {
      "text/plain": [
       "cast\n",
       "Matt Damon                 18\n",
       "Adam Sandler               17\n",
       "Angelina Jolie             16\n",
       "Tom Cruise                 15\n",
       "Eddie Murphy               15\n",
       "                           ..\n",
       "Jennifer Hudson             1\n",
       "Jennifer Jason Leigh        1\n",
       "Jennifer Saunders           1\n",
       "Jennifer Tilly              1\n",
       "Ã“lafur Darri Ã“lafsson     1\n",
       "Name: profit, Length: 1505, dtype: int64"
      ]
     },
     "execution_count": 96,
     "metadata": {},
     "output_type": "execute_result"
    }
   ],
   "source": [
    "answers['16'] = '3. Matt Damon'#+\n",
    "\n",
    "data_16 = data_2.copy()\n",
    "data_16['cast'] = data_16['cast'].str.split('|')\n",
    "data_16 = data_16.explode('cast')\n",
    "\n",
    "data_16[data_16['budget'] > data_16['budget'].mean()].groupby(by = 'cast')['profit'].count().sort_values(ascending = False)"
   ]
  },
  {
   "cell_type": "markdown",
   "metadata": {
    "colab_type": "text",
    "id": "NIh6AaW5Vp_n"
   },
   "source": [
    "# 17. В фильмах какого жанра больше всего снимался Nicolas Cage? "
   ]
  },
  {
   "cell_type": "code",
   "execution_count": 97,
   "metadata": {
    "colab": {},
    "colab_type": "code",
    "id": "H74SJDIBVp_n"
   },
   "outputs": [
    {
     "data": {
      "text/plain": [
       "genres\n",
       "Action             17\n",
       "Thriller           15\n",
       "Drama              12\n",
       "Crime              10\n",
       "Fantasy             8\n",
       "Adventure           7\n",
       "Comedy              6\n",
       "Science Fiction     4\n",
       "Animation           3\n",
       "Family              3\n",
       "Mystery             3\n",
       "History             2\n",
       "Horror              1\n",
       "Romance             1\n",
       "War                 1\n",
       "Name: genres, dtype: int64"
      ]
     },
     "execution_count": 97,
     "metadata": {},
     "output_type": "execute_result"
    }
   ],
   "source": [
    "answers['17'] = '2. Action'#+\n",
    "\n",
    "data_17 = data_2.copy()\n",
    "data_17['cast'] = data_17['cast'].str.split('|')\n",
    "data_17['genres'] = data_17['genres'].str.split('|')\n",
    "data_17 = data_17.explode('cast')\n",
    "data_17 = data_17.explode('genres')\n",
    "\n",
    "data_17[data_17['cast'] == 'Nicolas Cage'].groupby(by = 'genres')['genres'].count().sort_values(ascending = False)"
   ]
  },
  {
   "cell_type": "markdown",
   "metadata": {
    "colab_type": "text",
    "id": "RqOmPRfWVp_q"
   },
   "source": [
    "# 18. Самый убыточный фильм от Paramount Pictures"
   ]
  },
  {
   "cell_type": "code",
   "execution_count": 98,
   "metadata": {
    "colab": {},
    "colab_type": "code",
    "id": "9E_B0Y96Vp_r"
   },
   "outputs": [
    {
     "data": {
      "text/html": [
       "<div>\n",
       "<style scoped>\n",
       "    .dataframe tbody tr th:only-of-type {\n",
       "        vertical-align: middle;\n",
       "    }\n",
       "\n",
       "    .dataframe tbody tr th {\n",
       "        vertical-align: top;\n",
       "    }\n",
       "\n",
       "    .dataframe thead th {\n",
       "        text-align: right;\n",
       "    }\n",
       "</style>\n",
       "<table border=\"1\" class=\"dataframe\">\n",
       "  <thead>\n",
       "    <tr style=\"text-align: right;\">\n",
       "      <th></th>\n",
       "      <th>imdb_id</th>\n",
       "      <th>budget</th>\n",
       "      <th>revenue</th>\n",
       "      <th>original_title</th>\n",
       "      <th>cast</th>\n",
       "      <th>director</th>\n",
       "      <th>tagline</th>\n",
       "      <th>overview</th>\n",
       "      <th>runtime</th>\n",
       "      <th>genres</th>\n",
       "      <th>production_companies</th>\n",
       "      <th>release_date</th>\n",
       "      <th>vote_average</th>\n",
       "      <th>release_year</th>\n",
       "      <th>profit</th>\n",
       "    </tr>\n",
       "  </thead>\n",
       "  <tbody>\n",
       "    <tr>\n",
       "      <th>925</th>\n",
       "      <td>tt0267626</td>\n",
       "      <td>100000000</td>\n",
       "      <td>35168966</td>\n",
       "      <td>K-19: The Widowmaker</td>\n",
       "      <td>Harrison Ford|Liam Neeson|Peter Sarsgaard|Joss...</td>\n",
       "      <td>Kathryn Bigelow</td>\n",
       "      <td>Fate has found its hero.</td>\n",
       "      <td>When Russia's first nuclear submarine malfunct...</td>\n",
       "      <td>138</td>\n",
       "      <td>Thriller|Drama|History</td>\n",
       "      <td>Paramount Pictures</td>\n",
       "      <td>7/19/2002</td>\n",
       "      <td>6.0</td>\n",
       "      <td>2002</td>\n",
       "      <td>-64831034</td>\n",
       "    </tr>\n",
       "  </tbody>\n",
       "</table>\n",
       "</div>"
      ],
      "text/plain": [
       "       imdb_id     budget   revenue        original_title  \\\n",
       "925  tt0267626  100000000  35168966  K-19: The Widowmaker   \n",
       "\n",
       "                                                  cast         director  \\\n",
       "925  Harrison Ford|Liam Neeson|Peter Sarsgaard|Joss...  Kathryn Bigelow   \n",
       "\n",
       "                      tagline  \\\n",
       "925  Fate has found its hero.   \n",
       "\n",
       "                                              overview  runtime  \\\n",
       "925  When Russia's first nuclear submarine malfunct...      138   \n",
       "\n",
       "                     genres production_companies release_date  vote_average  \\\n",
       "925  Thriller|Drama|History   Paramount Pictures    7/19/2002           6.0   \n",
       "\n",
       "     release_year    profit  \n",
       "925          2002 -64831034  "
      ]
     },
     "execution_count": 98,
     "metadata": {},
     "output_type": "execute_result"
    }
   ],
   "source": [
    "answers['18'] = '2. Action'#+\n",
    "\n",
    "data_18 = data_2.copy()\n",
    "data_18['production_companies'] = data_18['production_companies'].str.split('|')\n",
    "data_18 = data_18.explode('production_companies')\n",
    "\n",
    "data_18 = data_18.loc[(data_18['production_companies'] == 'Paramount Pictures') & (data_18['profit'] < 0)]\n",
    "data_18  = data_18.sort_values('profit', ascending = True)\n",
    "data_18.head(1)"
   ]
  },
  {
   "cell_type": "markdown",
   "metadata": {
    "colab_type": "text",
    "id": "vS8Ur6ddVp_u"
   },
   "source": [
    "# 19. Какой год стал самым успешным по суммарным кассовым сборам?"
   ]
  },
  {
   "cell_type": "code",
   "execution_count": 99,
   "metadata": {
    "colab": {},
    "colab_type": "code",
    "id": "Dnbt4GdIVp_v"
   },
   "outputs": [
    {
     "data": {
      "text/plain": [
       "release_year\n",
       "2015    18668572378\n",
       "2014    16397812953\n",
       "2012    16077001687\n",
       "2013    15243179791\n",
       "2011    14730241341\n",
       "2010    13531204961\n",
       "2009    13423744372\n",
       "2008    11663881990\n",
       "2007    11565911801\n",
       "2004     9634180720\n",
       "2003     9228823312\n",
       "2002     9002361487\n",
       "2005     8981925558\n",
       "2006     8691077320\n",
       "2001     7950614865\n",
       "2000     6101399805\n",
       "Name: profit, dtype: int64"
      ]
     },
     "execution_count": 99,
     "metadata": {},
     "output_type": "execute_result"
    }
   ],
   "source": [
    "answers['19'] = '5. 2015'#+\n",
    "\n",
    "data_19 = data_2.copy()\n",
    "\n",
    "data_19.groupby(by = 'release_year')['profit'].sum().sort_values(ascending = False)"
   ]
  },
  {
   "cell_type": "markdown",
   "metadata": {
    "colab_type": "text",
    "id": "JAzJh4QAVp_z"
   },
   "source": [
    "# 20. Какой самый прибыльный год для студии Warner Bros?"
   ]
  },
  {
   "cell_type": "code",
   "execution_count": 100,
   "metadata": {
    "colab": {},
    "colab_type": "code",
    "id": "wgVu02DEVp_0"
   },
   "outputs": [
    {
     "data": {
      "text/plain": [
       "release_year\n",
       "2007    2167367993\n",
       "2008    2134595031\n",
       "2014    1886303827\n",
       "2011    1871393682\n",
       "2003    1855493377\n",
       "2010    1853128844\n",
       "2009    1833481628\n",
       "2004    1675125175\n",
       "2013    1636453400\n",
       "2005    1551980298\n",
       "2001    1428174853\n",
       "2012    1258020056\n",
       "2002    1072248589\n",
       "2015     870368348\n",
       "2006     614989614\n",
       "2000     471305068\n",
       "Name: profit, dtype: int64"
      ]
     },
     "execution_count": 100,
     "metadata": {},
     "output_type": "execute_result"
    }
   ],
   "source": [
    "answers['20'] = '2. 2008'#- 1. 2014?\n",
    "\n",
    "data_20 = data_2.copy()\n",
    "data_20['production_companies'] = data_20['production_companies'].str.split('|')\n",
    "data_20 = data_20.explode('production_companies')\n",
    "\n",
    "data_20[data_20['production_companies'] == 'Warner Bros.'].groupby(by = 'release_year')['profit'].sum().sort_values(ascending = False)"
   ]
  },
  {
   "cell_type": "markdown",
   "metadata": {
    "colab_type": "text",
    "id": "8Im1S2HRVp_4"
   },
   "source": [
    "# 21. В каком месяце за все годы суммарно вышло больше всего фильмов?"
   ]
  },
  {
   "cell_type": "code",
   "execution_count": 101,
   "metadata": {
    "colab": {},
    "colab_type": "code",
    "id": "lev6TH7gVp_4"
   },
   "outputs": [
    {
     "data": {
      "text/plain": [
       "9     227\n",
       "12    190\n",
       "10    186\n",
       "8     161\n",
       "3     156\n",
       "4     149\n",
       "6     147\n",
       "11    146\n",
       "7     142\n",
       "5     140\n",
       "2     135\n",
       "1     110\n",
       "Name: release_date, dtype: int64"
      ]
     },
     "execution_count": 101,
     "metadata": {},
     "output_type": "execute_result"
    }
   ],
   "source": [
    "answers['21'] = '4. 9'#+\n",
    "\n",
    "data_21 = data_2.copy()\n",
    "\n",
    "data_21['release_date'].str.split('/').apply(lambda x:x[0]).value_counts()"
   ]
  },
  {
   "cell_type": "markdown",
   "metadata": {
    "colab_type": "text",
    "id": "uAJsZ_NeVp_7"
   },
   "source": [
    "# 22. Сколько суммарно вышло фильмов летом? (за июнь, июль, август)"
   ]
  },
  {
   "cell_type": "code",
   "execution_count": 102,
   "metadata": {
    "colab": {},
    "colab_type": "code",
    "id": "Aa-hEREoVp_8"
   },
   "outputs": [
    {
     "data": {
      "text/plain": [
       "450"
      ]
     },
     "execution_count": 102,
     "metadata": {},
     "output_type": "execute_result"
    }
   ],
   "source": [
    "answers['22'] = '2. 450'#+\n",
    "\n",
    "data_22 = data_2.copy()\n",
    "\n",
    "data_22_1 = data_22['release_date'].str.split('/').apply(lambda x:x[0]).value_counts()\n",
    "data_22_1[['6','7','8']].sum()"
   ]
  },
  {
   "cell_type": "markdown",
   "metadata": {
    "colab_type": "text",
    "id": "G94ppOY1VqAA"
   },
   "source": [
    "# 23. Для какого режиссера зима – самое продуктивное время года? "
   ]
  },
  {
   "cell_type": "code",
   "execution_count": 103,
   "metadata": {
    "colab": {},
    "colab_type": "code",
    "id": "RhNTsamuVqAB"
   },
   "outputs": [
    {
     "name": "stderr",
     "output_type": "stream",
     "text": [
      "<ipython-input-103-59fb3e9ec91f>:8: SettingWithCopyWarning: \n",
      "A value is trying to be set on a copy of a slice from a DataFrame.\n",
      "Try using .loc[row_indexer,col_indexer] = value instead\n",
      "\n",
      "See the caveats in the documentation: https://pandas.pydata.org/pandas-docs/stable/user_guide/indexing.html#returning-a-view-versus-a-copy\n",
      "  data_winter['director'] = data_winter['director'].str.split('|')\n"
     ]
    },
    {
     "data": {
      "text/plain": [
       "director\n",
       "Peter Jackson        7\n",
       "Steven Soderbergh    6\n",
       "Clint Eastwood       6\n",
       "Shawn Levy           4\n",
       "Adam Shankman        4\n",
       "                    ..\n",
       "John Luessenhop      1\n",
       "John Musker          1\n",
       "John Polson          1\n",
       "Callan Brunker       1\n",
       "Xavier Palud         1\n",
       "Name: imdb_id, Length: 358, dtype: int64"
      ]
     },
     "execution_count": 103,
     "metadata": {},
     "output_type": "execute_result"
    }
   ],
   "source": [
    "answers['23'] = '5. Peter Jackson'#+\n",
    "\n",
    "import pandas as pd\n",
    "data_23 = pd.read_csv('movie_bd_v5.csv')\n",
    "\n",
    "data_23['release_date'] = pd.to_datetime(data_23['release_date'])\n",
    "data_winter = data_23[data_23['release_date'].dt.month.isin([1, 2, 12])]\n",
    "data_winter['director'] = data_winter['director'].str.split('|')\n",
    "data_winter = data_winter.explode('director')\n",
    "data_winter.groupby('director')['imdb_id'].count().sort_values(ascending=False)"
   ]
  },
  {
   "cell_type": "markdown",
   "metadata": {
    "colab_type": "text",
    "id": "RBo0JVjVVqAF"
   },
   "source": [
    "# 24. Какая студия дает самые длинные названия своим фильмам по количеству символов?"
   ]
  },
  {
   "cell_type": "code",
   "execution_count": 104,
   "metadata": {
    "colab": {},
    "colab_type": "code",
    "id": "QRGS8L0iVqAG"
   },
   "outputs": [
    {
     "data": {
      "text/plain": [
       "production_companies\n",
       "Twentieth Century Fox Film Corporation    83\n",
       "Four By Two Productions                   83\n",
       "Walt Disney                               62\n",
       "Walden Media                              62\n",
       "21 Laps Entertainment                     59\n",
       "                                          ..\n",
       "Everest Entertainment                      3\n",
       "Berlanti Productions                       3\n",
       "Global Entertainment Group                 2\n",
       "XM2 Productions                            2\n",
       "Ixtlan Productions                         2\n",
       "Name: original_title_len, Length: 1771, dtype: int64"
      ]
     },
     "execution_count": 104,
     "metadata": {},
     "output_type": "execute_result"
    }
   ],
   "source": [
    "answers['24'] = '5. Four By Two Productions'#+\n",
    "\n",
    "data_24 = pd.read_csv('movie_bd_v5.csv')\n",
    "\n",
    "data_24['production_companies'] = data_24['production_companies'].str.split('|')\n",
    "data_24 = data_24.explode('production_companies')\n",
    "data_24['original_title_len'] = data_24['original_title'].apply(len)\n",
    "data_24.groupby(by = 'production_companies')['original_title_len'].max().sort_values(ascending = False)"
   ]
  },
  {
   "cell_type": "markdown",
   "metadata": {
    "colab_type": "text",
    "id": "9G0hbvR7VqAK"
   },
   "source": [
    "# 25. Описание фильмов какой студии в среднем самые длинные по количеству слов?"
   ]
  },
  {
   "cell_type": "code",
   "execution_count": 105,
   "metadata": {
    "colab": {},
    "colab_type": "code",
    "id": "Ge2GsLNxVqAK"
   },
   "outputs": [
    {
     "data": {
      "text/plain": [
       "production_companies\n",
       "Midnight Picture Show                    1000.0\n",
       "Room 9 Entertainment                      964.0\n",
       "Brookwell-McNamara Entertainment          936.0\n",
       "Lions Gate Family Entertainment           909.0\n",
       "Crest Animation Productions               909.0\n",
       "                                          ...  \n",
       "London Boulevard                           74.0\n",
       "Henceforth                                 74.0\n",
       "Phantom Four                               72.0\n",
       "Empire Pictures                            62.0\n",
       "Motion Picture Corporation of America      59.0\n",
       "Name: overview, Length: 1771, dtype: float64"
      ]
     },
     "execution_count": 105,
     "metadata": {},
     "output_type": "execute_result"
    }
   ],
   "source": [
    "answers['25'] = '3. Midnight Picture Show'#+\n",
    "\n",
    "data_25 = pd.read_csv('movie_bd_v5.csv')\n",
    "\n",
    "data_25['production_companies'] = data_25['production_companies'].str.split('|')\n",
    "data_25 = data_25.explode('production_companies')\n",
    "data_25['overview'] = data_25['overview'].apply(len)\n",
    "data_25.groupby(by = 'production_companies')['overview'].mean().sort_values(ascending = False)"
   ]
  },
  {
   "cell_type": "markdown",
   "metadata": {
    "colab_type": "text",
    "id": "FJ1AFt90VqAP"
   },
   "source": [
    "# 26. Какие фильмы входят в 1 процент лучших по рейтингу? \n",
    "по vote_average"
   ]
  },
  {
   "cell_type": "code",
   "execution_count": 106,
   "metadata": {
    "colab": {},
    "colab_type": "code",
    "id": "8qmJVq4CVqAQ"
   },
   "outputs": [
    {
     "data": {
      "text/plain": [
       "original_title\n",
       "The Dark Knight                                  8.1\n",
       "Inside Out                                       8.0\n",
       "Interstellar                                     8.0\n",
       "Room                                             8.0\n",
       "The Imitation Game                               8.0\n",
       "12 Years a Slave                                 7.9\n",
       "Gone Girl                                        7.9\n",
       "Guardians of the Galaxy                          7.9\n",
       "Inception                                        7.9\n",
       "Memento                                          7.9\n",
       "The Grand Budapest Hotel                         7.9\n",
       "The Lord of the Rings: The Return of the King    7.9\n",
       "The Pianist                                      7.9\n",
       "The Wolf of Wall Street                          7.9\n",
       "Name: vote_average, dtype: float64"
      ]
     },
     "execution_count": 106,
     "metadata": {},
     "output_type": "execute_result"
    }
   ],
   "source": [
    "answers['26'] = '1. The Dark Knight'#+\n",
    "\n",
    "data_26 = pd.read_csv('movie_bd_v5.csv')\n",
    "any_data = data_26.quantile(0.99, numeric_only = True)['vote_average']\n",
    "data_26 = data[data['vote_average'] > any_data]\n",
    "data_26.groupby('original_title').vote_average.mean().sort_values(ascending = False)"
   ]
  },
  {
   "cell_type": "markdown",
   "metadata": {
    "colab_type": "text",
    "id": "MdXsUXbCVqAV"
   },
   "source": [
    "# 27. Какие актеры чаще всего снимаются в одном фильме вместе?\n"
   ]
  },
  {
   "cell_type": "markdown",
   "metadata": {
    "colab_type": "text",
    "id": "4ymnxEVoVqAW"
   },
   "source": [
    "ВАРИАНТ 2"
   ]
  },
  {
   "cell_type": "code",
   "execution_count": 107,
   "metadata": {
    "colab": {},
    "colab_type": "code",
    "id": "8qmJVq4CVqAQ"
   },
   "outputs": [
    {
     "data": {
      "text/plain": [
       "[(('Daniel Radcliffe', 'Emma Watson'), 8),\n",
       " (('Daniel Radcliffe', 'Rupert Grint'), 8),\n",
       " (('Emma Watson', 'Rupert Grint'), 8),\n",
       " (('Ben Stiller', 'Owen Wilson'), 6),\n",
       " (('Helena Bonham Carter', 'Johnny Depp'), 6)]"
      ]
     },
     "execution_count": 107,
     "metadata": {},
     "output_type": "execute_result"
    }
   ],
   "source": [
    "answers['27'] = '5. Daniel Radcliffe & Rupert Grint'#+\n",
    "\n",
    "import itertools as it\n",
    "\n",
    "data_27 = pd.read_csv('movie_bd_v5.csv')\n",
    "\n",
    "data_27_1 = data_27['cast'].apply(lambda s:str(s).split('|')).apply(lambda i: list(it.combinations(sorted(i), 2))).values.sum()\n",
    "Counter(data_27_1).most_common(5)"
   ]
  },
  {
   "cell_type": "markdown",
   "metadata": {
    "colab_type": "text",
    "id": "U0nONFnGVqAX"
   },
   "source": [
    "# Submission"
   ]
  },
  {
   "cell_type": "code",
   "execution_count": 108,
   "metadata": {
    "colab": {},
    "colab_type": "code",
    "id": "IfcaRO9-VqAX",
    "outputId": "0f132912-32bb-4196-c98c-abfbc4ad5a5f"
   },
   "outputs": [
    {
     "data": {
      "text/plain": [
       "{'1': '5. Pirates of the Caribbean: On Stranger Tides',\n",
       " '2': '2. Gods and Generals',\n",
       " '3': '3. Winnie the Pooh',\n",
       " '4': '2. 110 min',\n",
       " '5': '1. 107 min',\n",
       " '6': '5. Avatar',\n",
       " '7': '5. The Lone Ranger',\n",
       " '8': '1. 1478',\n",
       " '9': '4. The Dark Knight',\n",
       " '10': '5. The Lone Ranger',\n",
       " '11': '3. Drama',\n",
       " '12': '1. Drama',\n",
       " '13': '5. Peter Jackson',\n",
       " '14': '3. Robert Rodriguez',\n",
       " '15': '3. Chris Hemsworth',\n",
       " '16': '3. Matt Damon',\n",
       " '17': '2. Action',\n",
       " '18': '2. Action',\n",
       " '19': '5. 2015',\n",
       " '20': '2. 2008',\n",
       " '21': '4. 9',\n",
       " '22': '2. 450',\n",
       " '23': '5. Peter Jackson',\n",
       " '24': '5. Four By Two Productions',\n",
       " '25': '3. Midnight Picture Show',\n",
       " '26': '1. The Dark Knight',\n",
       " '27': '5. Daniel Radcliffe & Rupert Grint'}"
      ]
     },
     "execution_count": 108,
     "metadata": {},
     "output_type": "execute_result"
    }
   ],
   "source": [
    "# в конце можно посмотреть свои ответы к каждому вопросу\n",
    "answers"
   ]
  },
  {
   "cell_type": "code",
   "execution_count": 109,
   "metadata": {
    "colab": {},
    "colab_type": "code",
    "id": "SiRmHPl8VqAd"
   },
   "outputs": [
    {
     "data": {
      "text/plain": [
       "27"
      ]
     },
     "execution_count": 109,
     "metadata": {},
     "output_type": "execute_result"
    }
   ],
   "source": [
    "# и убедиться что ни чего не пропустил)\n",
    "len(answers)"
   ]
  },
  {
   "cell_type": "code",
   "execution_count": 0,
   "metadata": {
    "colab": {},
    "colab_type": "code",
    "id": "uCfuTkRbVqAg"
   },
   "outputs": [],
   "source": []
  },
  {
   "cell_type": "code",
   "execution_count": 0,
   "metadata": {
    "colab": {},
    "colab_type": "code",
    "id": "Vwx3NrkSVqAl"
   },
   "outputs": [],
   "source": []
  }
 ],
 "metadata": {
  "colab": {
   "name": "Copy of [SF-DST] Movies IMBD v4.1 TEMPLATE.ipynb",
   "provenance": []
  },
  "kernelspec": {
   "display_name": "Python 3",
   "language": "python",
   "name": "python3"
  },
  "language_info": {
   "codemirror_mode": {
    "name": "ipython",
    "version": 3
   },
   "file_extension": ".py",
   "mimetype": "text/x-python",
   "name": "python",
   "nbconvert_exporter": "python",
   "pygments_lexer": "ipython3",
   "version": "3.8.8"
  }
 },
 "nbformat": 4,
 "nbformat_minor": 1
}
